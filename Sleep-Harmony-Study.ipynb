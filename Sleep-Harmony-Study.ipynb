{
 "cells": [
  {
   "cell_type": "markdown",
   "metadata": {},
   "source": [
    "# Analysis of Sleep in Mammals Dataset\n",
    "\n",
    "The \"Sleep in Mammals\" dataset includes information on 39 species of mammals distributed across 13 different orders. It was used to analyze the relationship between various factors and the sleeping patterns of mammals. The dataset provides insights into the differences in sleep behavior among these species. Here are the key details:\n",
    "\n",
    "**Variables in the Dataset:**\n",
    "- **species:** The species of mammals.\n",
    "- **body_wt:** Total body weight of the mammal in kilograms (kg).\n",
    "- **brain_wt:** Brain weight of the mammal in kilograms (kg).\n",
    "- **non_dreaming:** Number of hours of non-dreaming sleep.\n",
    "- **dreaming:** Number of hours of dreaming sleep.\n",
    "- **total_sleep:** Total number of hours of sleep.\n",
    "- **life_span:** The average lifespan of the mammal in years.\n",
    "- **gestation:** The duration of gestation or pregnancy in days.\n",
    "- **predation:** An index indicating how likely the mammal is to be preyed upon, ranging from 1 (least likely) to 5 (most likely).\n",
    "- **exposure:** An index indicating how exposed the mammal is during sleep, with values from 1 (least exposed) to 5 (most exposed).\n",
    "- **danger:** An index reflecting the level of danger the mammal faces from other animals. This index is based on predation and exposure, with values from 1 (least danger) to 5 (most danger).\n",
    "\n",
    "**Data Source:**\n",
    "- The original source of the dataset is [here](http://www.statsci.org/data/general/sleep.txt).\n",
    "\n",
    "**References:**\n",
    "- The dataset was used in a study titled \"Sleep in mammals: ecological and constitutional correlates\" by T. Allison and D. Cicchetti, published in \"Arch. Hydrobiol,\" volume 75, page 442, in 1975.\n",
    "\n",
    "This dataset serves as a valuable resource for researchers studying sleep patterns and the ecological and constitutional factors that influence them in mammals."
   ]
  },
  {
   "cell_type": "code",
   "execution_count": 26,
   "metadata": {},
   "outputs": [],
   "source": [
    "# IMPORT & READ\n",
    "import pandas as pd\n",
    "import numpy as np\n",
    "import scipy.stats as stats\n",
    "import matplotlib.pyplot as plt\n",
    "import seaborn as sns\n",
    "\n",
    "# Read the data\n",
    "df = pd.read_csv(\"mammals.csv\", index_col='species')\n",
    "\n",
    "target = \"total_sleep\""
   ]
  },
  {
   "cell_type": "code",
   "execution_count": 27,
   "metadata": {},
   "outputs": [
    {
     "name": "stdout",
     "output_type": "stream",
     "text": [
      "<class 'pandas.core.frame.DataFrame'>\n",
      "Index: 62 entries, Africanelephant to Yellow-belliedmarmot\n",
      "Data columns (total 10 columns):\n",
      " #   Column        Non-Null Count  Dtype  \n",
      "---  ------        --------------  -----  \n",
      " 0   body_wt       62 non-null     float64\n",
      " 1   brain_wt      62 non-null     float64\n",
      " 2   non_dreaming  48 non-null     float64\n",
      " 3   dreaming      50 non-null     float64\n",
      " 4   total_sleep   58 non-null     float64\n",
      " 5   life_span     58 non-null     float64\n",
      " 6   gestation     58 non-null     float64\n",
      " 7   predation     62 non-null     int64  \n",
      " 8   exposure      62 non-null     int64  \n",
      " 9   danger        62 non-null     int64  \n",
      "dtypes: float64(7), int64(3)\n",
      "memory usage: 5.3+ KB\n"
     ]
    }
   ],
   "source": [
    "df.info()"
   ]
  },
  {
   "cell_type": "code",
   "execution_count": 28,
   "metadata": {},
   "outputs": [
    {
     "data": {
      "text/html": [
       "<div>\n",
       "<style scoped>\n",
       "    .dataframe tbody tr th:only-of-type {\n",
       "        vertical-align: middle;\n",
       "    }\n",
       "\n",
       "    .dataframe tbody tr th {\n",
       "        vertical-align: top;\n",
       "    }\n",
       "\n",
       "    .dataframe thead th {\n",
       "        text-align: right;\n",
       "    }\n",
       "</style>\n",
       "<table border=\"1\" class=\"dataframe\">\n",
       "  <thead>\n",
       "    <tr style=\"text-align: right;\">\n",
       "      <th></th>\n",
       "      <th>body_wt</th>\n",
       "      <th>brain_wt</th>\n",
       "      <th>non_dreaming</th>\n",
       "      <th>dreaming</th>\n",
       "      <th>total_sleep</th>\n",
       "      <th>life_span</th>\n",
       "      <th>gestation</th>\n",
       "      <th>predation</th>\n",
       "      <th>exposure</th>\n",
       "      <th>danger</th>\n",
       "    </tr>\n",
       "    <tr>\n",
       "      <th>species</th>\n",
       "      <th></th>\n",
       "      <th></th>\n",
       "      <th></th>\n",
       "      <th></th>\n",
       "      <th></th>\n",
       "      <th></th>\n",
       "      <th></th>\n",
       "      <th></th>\n",
       "      <th></th>\n",
       "      <th></th>\n",
       "    </tr>\n",
       "  </thead>\n",
       "  <tbody>\n",
       "    <tr>\n",
       "      <th>Okapi</th>\n",
       "      <td>250.000</td>\n",
       "      <td>490.0</td>\n",
       "      <td>NaN</td>\n",
       "      <td>1.0</td>\n",
       "      <td>NaN</td>\n",
       "      <td>23.6</td>\n",
       "      <td>440.0</td>\n",
       "      <td>5</td>\n",
       "      <td>5</td>\n",
       "      <td>5</td>\n",
       "    </tr>\n",
       "    <tr>\n",
       "      <th>Mountainbeaver</th>\n",
       "      <td>1.350</td>\n",
       "      <td>8.1</td>\n",
       "      <td>8.4</td>\n",
       "      <td>2.8</td>\n",
       "      <td>11.2</td>\n",
       "      <td>NaN</td>\n",
       "      <td>45.0</td>\n",
       "      <td>3</td>\n",
       "      <td>1</td>\n",
       "      <td>3</td>\n",
       "    </tr>\n",
       "    <tr>\n",
       "      <th>Roedeer</th>\n",
       "      <td>14.830</td>\n",
       "      <td>98.2</td>\n",
       "      <td>NaN</td>\n",
       "      <td>NaN</td>\n",
       "      <td>2.6</td>\n",
       "      <td>17.0</td>\n",
       "      <td>150.0</td>\n",
       "      <td>5</td>\n",
       "      <td>5</td>\n",
       "      <td>5</td>\n",
       "    </tr>\n",
       "    <tr>\n",
       "      <th>Rabbit</th>\n",
       "      <td>2.500</td>\n",
       "      <td>12.1</td>\n",
       "      <td>7.5</td>\n",
       "      <td>0.9</td>\n",
       "      <td>8.4</td>\n",
       "      <td>18.0</td>\n",
       "      <td>31.0</td>\n",
       "      <td>5</td>\n",
       "      <td>5</td>\n",
       "      <td>5</td>\n",
       "    </tr>\n",
       "    <tr>\n",
       "      <th>EasternAmericanmole</th>\n",
       "      <td>0.075</td>\n",
       "      <td>1.2</td>\n",
       "      <td>6.3</td>\n",
       "      <td>2.1</td>\n",
       "      <td>8.4</td>\n",
       "      <td>3.5</td>\n",
       "      <td>42.0</td>\n",
       "      <td>1</td>\n",
       "      <td>1</td>\n",
       "      <td>1</td>\n",
       "    </tr>\n",
       "    <tr>\n",
       "      <th>Starnosedmole</th>\n",
       "      <td>0.060</td>\n",
       "      <td>1.0</td>\n",
       "      <td>8.1</td>\n",
       "      <td>2.2</td>\n",
       "      <td>10.3</td>\n",
       "      <td>3.5</td>\n",
       "      <td>NaN</td>\n",
       "      <td>3</td>\n",
       "      <td>1</td>\n",
       "      <td>2</td>\n",
       "    </tr>\n",
       "    <tr>\n",
       "      <th>Chimpanzee</th>\n",
       "      <td>52.160</td>\n",
       "      <td>440.0</td>\n",
       "      <td>8.3</td>\n",
       "      <td>1.4</td>\n",
       "      <td>9.7</td>\n",
       "      <td>50.0</td>\n",
       "      <td>230.0</td>\n",
       "      <td>1</td>\n",
       "      <td>1</td>\n",
       "      <td>1</td>\n",
       "    </tr>\n",
       "    <tr>\n",
       "      <th>Deserthedgehog</th>\n",
       "      <td>0.550</td>\n",
       "      <td>2.4</td>\n",
       "      <td>7.6</td>\n",
       "      <td>2.7</td>\n",
       "      <td>10.3</td>\n",
       "      <td>NaN</td>\n",
       "      <td>NaN</td>\n",
       "      <td>2</td>\n",
       "      <td>1</td>\n",
       "      <td>2</td>\n",
       "    </tr>\n",
       "    <tr>\n",
       "      <th>Africangiantpouchedrat</th>\n",
       "      <td>1.000</td>\n",
       "      <td>6.6</td>\n",
       "      <td>6.3</td>\n",
       "      <td>2.0</td>\n",
       "      <td>8.3</td>\n",
       "      <td>4.5</td>\n",
       "      <td>42.0</td>\n",
       "      <td>3</td>\n",
       "      <td>1</td>\n",
       "      <td>3</td>\n",
       "    </tr>\n",
       "    <tr>\n",
       "      <th>Phanlanger</th>\n",
       "      <td>1.620</td>\n",
       "      <td>11.4</td>\n",
       "      <td>11.9</td>\n",
       "      <td>1.8</td>\n",
       "      <td>13.7</td>\n",
       "      <td>13.0</td>\n",
       "      <td>17.0</td>\n",
       "      <td>2</td>\n",
       "      <td>1</td>\n",
       "      <td>2</td>\n",
       "    </tr>\n",
       "    <tr>\n",
       "      <th>Giraffe</th>\n",
       "      <td>529.000</td>\n",
       "      <td>680.0</td>\n",
       "      <td>NaN</td>\n",
       "      <td>0.3</td>\n",
       "      <td>NaN</td>\n",
       "      <td>28.0</td>\n",
       "      <td>400.0</td>\n",
       "      <td>5</td>\n",
       "      <td>5</td>\n",
       "      <td>5</td>\n",
       "    </tr>\n",
       "    <tr>\n",
       "      <th>Mouse</th>\n",
       "      <td>0.023</td>\n",
       "      <td>0.4</td>\n",
       "      <td>11.9</td>\n",
       "      <td>1.3</td>\n",
       "      <td>13.2</td>\n",
       "      <td>3.2</td>\n",
       "      <td>19.0</td>\n",
       "      <td>4</td>\n",
       "      <td>1</td>\n",
       "      <td>3</td>\n",
       "    </tr>\n",
       "    <tr>\n",
       "      <th>Redfox</th>\n",
       "      <td>4.235</td>\n",
       "      <td>50.4</td>\n",
       "      <td>7.4</td>\n",
       "      <td>2.4</td>\n",
       "      <td>9.8</td>\n",
       "      <td>9.8</td>\n",
       "      <td>52.0</td>\n",
       "      <td>1</td>\n",
       "      <td>1</td>\n",
       "      <td>1</td>\n",
       "    </tr>\n",
       "    <tr>\n",
       "      <th>Rockhyrax(Procaviahab)</th>\n",
       "      <td>3.600</td>\n",
       "      <td>21.0</td>\n",
       "      <td>4.9</td>\n",
       "      <td>0.5</td>\n",
       "      <td>5.4</td>\n",
       "      <td>6.0</td>\n",
       "      <td>225.0</td>\n",
       "      <td>3</td>\n",
       "      <td>2</td>\n",
       "      <td>3</td>\n",
       "    </tr>\n",
       "    <tr>\n",
       "      <th>Genet</th>\n",
       "      <td>1.410</td>\n",
       "      <td>17.5</td>\n",
       "      <td>4.8</td>\n",
       "      <td>1.3</td>\n",
       "      <td>6.1</td>\n",
       "      <td>34.0</td>\n",
       "      <td>NaN</td>\n",
       "      <td>1</td>\n",
       "      <td>2</td>\n",
       "      <td>1</td>\n",
       "    </tr>\n",
       "  </tbody>\n",
       "</table>\n",
       "</div>"
      ],
      "text/plain": [
       "                        body_wt  brain_wt  non_dreaming  dreaming  \\\n",
       "species                                                             \n",
       "Okapi                   250.000     490.0           NaN       1.0   \n",
       "Mountainbeaver            1.350       8.1           8.4       2.8   \n",
       "Roedeer                  14.830      98.2           NaN       NaN   \n",
       "Rabbit                    2.500      12.1           7.5       0.9   \n",
       "EasternAmericanmole       0.075       1.2           6.3       2.1   \n",
       "Starnosedmole             0.060       1.0           8.1       2.2   \n",
       "Chimpanzee               52.160     440.0           8.3       1.4   \n",
       "Deserthedgehog            0.550       2.4           7.6       2.7   \n",
       "Africangiantpouchedrat    1.000       6.6           6.3       2.0   \n",
       "Phanlanger                1.620      11.4          11.9       1.8   \n",
       "Giraffe                 529.000     680.0           NaN       0.3   \n",
       "Mouse                     0.023       0.4          11.9       1.3   \n",
       "Redfox                    4.235      50.4           7.4       2.4   \n",
       "Rockhyrax(Procaviahab)    3.600      21.0           4.9       0.5   \n",
       "Genet                     1.410      17.5           4.8       1.3   \n",
       "\n",
       "                        total_sleep  life_span  gestation  predation  \\\n",
       "species                                                                \n",
       "Okapi                           NaN       23.6      440.0          5   \n",
       "Mountainbeaver                 11.2        NaN       45.0          3   \n",
       "Roedeer                         2.6       17.0      150.0          5   \n",
       "Rabbit                          8.4       18.0       31.0          5   \n",
       "EasternAmericanmole             8.4        3.5       42.0          1   \n",
       "Starnosedmole                  10.3        3.5        NaN          3   \n",
       "Chimpanzee                      9.7       50.0      230.0          1   \n",
       "Deserthedgehog                 10.3        NaN        NaN          2   \n",
       "Africangiantpouchedrat          8.3        4.5       42.0          3   \n",
       "Phanlanger                     13.7       13.0       17.0          2   \n",
       "Giraffe                         NaN       28.0      400.0          5   \n",
       "Mouse                          13.2        3.2       19.0          4   \n",
       "Redfox                          9.8        9.8       52.0          1   \n",
       "Rockhyrax(Procaviahab)          5.4        6.0      225.0          3   \n",
       "Genet                           6.1       34.0        NaN          1   \n",
       "\n",
       "                        exposure  danger  \n",
       "species                                   \n",
       "Okapi                          5       5  \n",
       "Mountainbeaver                 1       3  \n",
       "Roedeer                        5       5  \n",
       "Rabbit                         5       5  \n",
       "EasternAmericanmole            1       1  \n",
       "Starnosedmole                  1       2  \n",
       "Chimpanzee                     1       1  \n",
       "Deserthedgehog                 1       2  \n",
       "Africangiantpouchedrat         1       3  \n",
       "Phanlanger                     1       2  \n",
       "Giraffe                        5       5  \n",
       "Mouse                          1       3  \n",
       "Redfox                         1       1  \n",
       "Rockhyrax(Procaviahab)         2       3  \n",
       "Genet                          2       1  "
      ]
     },
     "execution_count": 28,
     "metadata": {},
     "output_type": "execute_result"
    }
   ],
   "source": [
    "df.sample(15)"
   ]
  },
  {
   "cell_type": "markdown",
   "metadata": {},
   "source": [
    "# FUNCTIONS"
   ]
  },
  {
   "cell_type": "code",
   "execution_count": 29,
   "metadata": {},
   "outputs": [],
   "source": [
    "# IMPUTE_MISSING_VALUES\n",
    "\n",
    "from sklearn.impute import SimpleImputer\n",
    "\n",
    "def impute_missing_values(df):\n",
    "    # Identify columns with missing values\n",
    "    missing_columns = df.columns[df.isna().any()]\n",
    "\n",
    "    # Select numeric and categorical columns\n",
    "    missing_df = df[missing_columns]\n",
    "    numeric_columns = missing_df.select_dtypes(include='number').columns\n",
    "    categorical_columns = missing_df.select_dtypes(include='object').columns\n",
    "\n",
    "    # Fill missing values with mode in categorical columns\n",
    "    df_cleaned = df.copy()\n",
    "    for column in categorical_columns:\n",
    "        if df_cleaned[column].mode().empty:\n",
    "            continue\n",
    "        df_cleaned[column].fillna(df_cleaned[column].mode().iloc[0], inplace=True)\n",
    "\n",
    "    # Fill missing values with mean in numeric columns\n",
    "    imp = SimpleImputer(strategy='mean')\n",
    "    df_cleaned[numeric_columns] = imp.fit_transform(df_cleaned[numeric_columns])\n",
    "\n",
    "    return df_cleaned\n"
   ]
  },
  {
   "cell_type": "code",
   "execution_count": 30,
   "metadata": {},
   "outputs": [],
   "source": [
    "# MUTUAL_INFORMATION\n",
    "\n",
    "from sklearn.feature_selection import mutual_info_regression\n",
    "def m_info_r(X, y):\n",
    "   \n",
    "    \n",
    "    mi_scores = mutual_info_regression(X, y, discrete_features=\"auto\", random_state=0) # Calculate mi scores\n",
    "    \n",
    "    # Create a Series with feature names as index and sorted mutual information scores\n",
    "    mi_scores = pd.Series(mi_scores, name=\"MI Scores\", index=X.columns)\n",
    "    mi_scores = mi_scores.sort_values(ascending=False)\n",
    "    \n",
    "    return mi_scores\n",
    "\n",
    " \n",
    "def plot_mi_scores(mi_scores, top_n=20):\n",
    "    plt.figure(dpi=100, figsize=(10, 6))\n",
    "    sns.barplot(x=mi_scores.head(top_n), y=mi_scores.head(top_n).index, palette='viridis')\n",
    "    plt.title(\"Mutual Information Scores\")\n",
    "    plt.show()"
   ]
  },
  {
   "cell_type": "code",
   "execution_count": 31,
   "metadata": {},
   "outputs": [],
   "source": [
    "# SEABORN_VISUALIZATION\n",
    "\n",
    "def visualize_numerical_columns(df, num_cols_per_row=3):\n",
    "    # Select numerical columns\n",
    "    numerical_cols = df.select_dtypes(include=[np.number]).columns\n",
    "\n",
    "    # Calculate the number of rows needed for subplots\n",
    "    num_rows = (len(numerical_cols) - 1) // num_cols_per_row + 1\n",
    "\n",
    "    # Set plot style and palette\n",
    "    sns.set_style(\"dark\")\n",
    "    sns.set_palette(\"dark\")\n",
    "\n",
    "    # Create subplots\n",
    "    fig, axes = plt.subplots(nrows=num_rows, ncols=num_cols_per_row, figsize=(12, 4 * num_rows))\n",
    "    fig.tight_layout(pad=4.0)\n",
    "\n",
    "    # Plot histograms for numerical columns\n",
    "    for ax, col in zip(axes.flatten(), numerical_cols):\n",
    "        sns.histplot(df[col], ax=ax, edgecolor='white', color='#a2d2ff', bins=20)\n",
    "        ax.set_title(f'Distribution of {col}')\n",
    "        ax.set_xlabel('')\n",
    "        ax.set_ylabel('Count')\n",
    "\n",
    "    # Remove empty subplots\n",
    "    if len(numerical_cols) % num_cols_per_row != 0:\n",
    "        empty_subplots = num_rows * num_cols_per_row - len(numerical_cols)\n",
    "        for ax in axes.flatten()[-empty_subplots:]:\n",
    "            ax.remove()\n",
    "\n",
    "    plt.show()\n",
    "\n",
    "def seaborn_correlation_matrix(df):\n",
    "    sns.set_theme(style=\"white\")\n",
    "\n",
    "    # Compute the correlation matrix\n",
    "    corr = df.corr(numeric_only=True)\n",
    "\n",
    "    # Generate a mask for the upper triangle\n",
    "    mask = np.triu(np.ones_like(corr, dtype=bool))\n",
    "\n",
    "    # Set up the matplotlib figure\n",
    "    f, ax = plt.subplots(figsize=(6, 4))\n",
    "\n",
    "    # Generate a custom colormap\n",
    "    cmap = sns.cubehelix_palette(start=.5, rot=-.5, as_cmap=True)\n",
    "\n",
    "    # Draw the heatmap with the mask and correct aspect ratio\n",
    "    sns.heatmap(corr, mask=mask, cmap=cmap, center=0,\n",
    "                square=True, linewidths=.5, cbar_kws={\"shrink\": .5}, annot=False, annot_kws={\"fontsize\": 8})\n",
    "\n",
    "    # Show the plot\n",
    "    plt.show()\n",
    "\n",
    "def visualize_binary_relationships(df, target_column):\n",
    "    g = sns.pairplot(data=df, hue=target_column, palette='seismic', height=1.2, diag_kind='kde', diag_kws=dict(fill=True), plot_kws=dict(s=10))\n",
    "    g.set(xticklabels=[])\n",
    "\n",
    "\n"
   ]
  },
  {
   "cell_type": "code",
   "execution_count": 32,
   "metadata": {},
   "outputs": [],
   "source": [
    "# PLOTLY_VISUALIZATION\n",
    "\n",
    "import plotly.graph_objects as go\n",
    "import plotly.express as px\n",
    "\n",
    "\n",
    "def explore_dependent_variable(target):\n",
    "   \n",
    "\n",
    "    # Create a histogram of the target column\n",
    "    hist_data = go.Histogram(x=target, nbinsx=100, name=\"Histogram\", opacity=0.75, histnorm='probability density', marker=dict(color='blueviolet'))\n",
    "\n",
    "\n",
    "    # Combine the histogram and the overlay\n",
    "    fig = go.Figure(data=[hist_data])\n",
    "\n",
    "    # Set the layout for the plot\n",
    "    fig.update_layout(\n",
    "        title=\"Dependent Variable Distribution\",\n",
    "        xaxis_title=\"Dependent Variable\",\n",
    "        yaxis_title=\"Density\",\n",
    "        legend_title_text=\"Fitted Normal Distribution\",\n",
    "        plot_bgcolor='rgba(32, 32, 32, 1)',\n",
    "        paper_bgcolor='rgba(32, 32, 32, 1)',\n",
    "        font=dict(color='white')\n",
    "    )\n",
    "\n",
    "    # Create a Q-Q plot\n",
    "    qq_data = stats.probplot(target, dist=\"norm\")\n",
    "    qq_fig = px.scatter(x=qq_data[0][0], y=qq_data[0][1], labels={'x': 'Theoretical Quantiles', 'y': 'Ordered Values'}, color_discrete_sequence=[\"blueviolet\"])\n",
    "    qq_fig.update_layout(\n",
    "        title=\"Q-Q plot\",\n",
    "        plot_bgcolor='rgba(32, 32, 32, 1)',\n",
    "        paper_bgcolor='rgba(32, 32, 32, 1)',\n",
    "        font=dict(color='white')\n",
    "    )\n",
    "\n",
    "    # Calculate the line of best fit\n",
    "    slope, intercept, r_value, p_value, std_err = stats.linregress(qq_data[0][0], qq_data[0][1])\n",
    "    line_x = np.array(qq_data[0][0])\n",
    "    line_y = intercept + slope * line_x\n",
    "\n",
    "    # Add the line of best fit to the Q-Q plot\n",
    "    line_data = go.Scatter(x=line_x, y=line_y, mode=\"lines\", name=\"Normal Line\", line=dict(color=\"white\"))\n",
    "\n",
    "    # Update the Q-Q plot with the normal line\n",
    "    qq_fig.add_trace(line_data)\n",
    "\n",
    "    # Show the plots\n",
    "    fig.show()\n",
    "    qq_fig.show()\n",
    "\n",
    "\n",
    "def explore_categorical_relationships(df, group_column, target_column):\n",
    "    grouped_counts = df[group_column].value_counts()\n",
    "    grouped_averages = df.groupby(group_column)[target_column].mean()\n",
    "\n",
    "    formatted_averages = ['' + f'{value:,.2f}' for value in grouped_averages.values]\n",
    "\n",
    "    fig1 = go.Figure(data=[go.Bar(\n",
    "        x=grouped_counts.index,\n",
    "        y=grouped_counts.values,\n",
    "        marker_color='rgb(76, 175, 80)',\n",
    "        text=grouped_counts.values,\n",
    "        textposition='outside',\n",
    "        width=0.4,\n",
    "        marker=dict(line=dict(width=2, color='rgba(0,0,0,1)'), opacity=1)\n",
    "    )])\n",
    "    fig1.update_layout(\n",
    "        title=f'Distribution of {group_column}',\n",
    "        xaxis_title=group_column,\n",
    "        yaxis_title='Count',\n",
    "        plot_bgcolor='rgba(34, 34, 34, 1)',\n",
    "        paper_bgcolor='rgba(34, 34, 34, 1)',\n",
    "        font=dict(color='white'),\n",
    "        height=500  # Adjust the height value as desired\n",
    "    )\n",
    "\n",
    "    fig2 = go.Figure(data=[go.Bar(\n",
    "        x=grouped_averages.index,\n",
    "        y=grouped_averages.values,\n",
    "        marker_color='rgb(156, 39, 176)',\n",
    "        text=formatted_averages,\n",
    "        textposition='outside',\n",
    "        width=0.4,\n",
    "        marker=dict(line=dict(width=2, color='rgba(0,0,0,1)'), opacity=1)\n",
    "    )])\n",
    "    fig2.update_layout(\n",
    "        title=f'Average {target_column} by {group_column}',\n",
    "        xaxis_title=group_column,\n",
    "        yaxis_title=target_column,\n",
    "        plot_bgcolor='rgba(34, 34, 34, 1)',\n",
    "        paper_bgcolor='rgba(34, 34, 34, 1)',\n",
    "        font=dict(color='white'),\n",
    "        height=500  # Adjust the height value as desired\n",
    "    )\n",
    "\n",
    "    fig1.show()\n",
    "    fig2.show()\n",
    "\n",
    "\n",
    "def explore_numerical_correlation(df, feature_column, target_column):\n",
    "    # Calculate correlation between feature and target\n",
    "    feature_target_corr = df[feature_column].corr(df[target_column])\n",
    "    print(f'Correlation between {feature_column} and {target_column}: {feature_target_corr}')\n",
    "\n",
    "    # Create a scatter plot to visualize the relationship between feature and target\n",
    "    fig = px.scatter(df, x=feature_column, y=target_column, title=f'{feature_column} vs {target_column}', color=feature_column, color_continuous_scale=px.colors.sequential.Purp)\n",
    "    fig.update_layout(plot_bgcolor='rgb(30,30,30)', paper_bgcolor='rgb(30,30,30)', font=dict(color='white'))\n",
    "    fig.show()\n",
    "\n"
   ]
  },
  {
   "cell_type": "markdown",
   "metadata": {},
   "source": [
    "# DATA EXPLORATION\n"
   ]
  },
  {
   "cell_type": "code",
   "execution_count": 33,
   "metadata": {},
   "outputs": [
    {
     "name": "stdout",
     "output_type": "stream",
     "text": [
      "Data Shape:\n",
      "(62, 10)\n",
      "\n",
      "Duplicate Values:\n",
      "( 0 )\n",
      "\n",
      "Data Types:\n",
      "float64    7\n",
      "int64      3\n",
      "Name: count, dtype: int64\n",
      "\n",
      "Missing Data:\n",
      "              Total    Percent\n",
      "non_dreaming     14  22.580645\n",
      "dreaming         12  19.354839\n",
      "total_sleep       4   6.451613\n",
      "life_span         4   6.451613\n",
      "gestation         4   6.451613\n"
     ]
    }
   ],
   "source": [
    "# INFO\n",
    "\n",
    "# Display the shape of the data\n",
    "print(\"Data Shape:\")\n",
    "print(df.shape)\n",
    "\n",
    "# Check for any duplicate entries in the data.\n",
    "print('')\n",
    "print(\"Duplicate Values:\")\n",
    "print('(',df.duplicated().sum(),')')\n",
    "\n",
    "\n",
    "# Display the data types of the columns\n",
    "print(\"\\nData Types:\")\n",
    "print(df.dtypes.value_counts())\n",
    "\n",
    "# Check for missing values\n",
    "missing_columns = df.columns[df.isnull().any()]\n",
    "if missing_columns.size > 0:\n",
    "    missing_values = df[missing_columns].isnull().sum()\n",
    "    missing_percentage = (missing_values / len(df)) * 100\n",
    "\n",
    "    # Combine missing_values and missing_percentage into a single DataFrame\n",
    "    missing_data = pd.concat([missing_values, missing_percentage], axis=1, keys=['Total', 'Percent'])\n",
    "\n",
    "    # Sort the missing_data DataFrame by Total column in descending order\n",
    "    missing_data = missing_data.sort_values(by='Total', ascending=False)\n",
    "\n",
    "    # Print missing data\n",
    "    print(\"\\nMissing Data:\")\n",
    "    print(missing_data.to_string())\n",
    "else:\n",
    "    print(\"\\nNo Missing Values Found\")\n",
    "\n"
   ]
  },
  {
   "cell_type": "code",
   "execution_count": 34,
   "metadata": {},
   "outputs": [],
   "source": [
    "# Calculate mutual information scores\n",
    "\n",
    "# Create a new DataFrame without null values\n",
    "df_m = impute_missing_values(df.copy(deep=True))\n",
    "\n",
    "\n",
    "X_m = df_m\n",
    "\n",
    "y_m = X_m.pop('total_sleep')\n"
   ]
  },
  {
   "cell_type": "code",
   "execution_count": 35,
   "metadata": {},
   "outputs": [
    {
     "data": {
      "text/plain": [
       "species\n",
       "Africanelephant            3.3\n",
       "Africangiantpouchedrat     8.3\n",
       "ArcticFox                 12.5\n",
       "Arcticgroundsquirrel      16.5\n",
       "Asianelephant              3.9\n",
       "Name: total_sleep, dtype: float64"
      ]
     },
     "execution_count": 35,
     "metadata": {},
     "output_type": "execute_result"
    }
   ],
   "source": [
    "X_m.head()\n",
    "\n",
    "y_m.head()"
   ]
  },
  {
   "cell_type": "code",
   "execution_count": 36,
   "metadata": {},
   "outputs": [
    {
     "name": "stderr",
     "output_type": "stream",
     "text": [
      "C:\\Users\\lacom\\AppData\\Local\\Temp\\ipykernel_2340\\1266330775.py:18: FutureWarning:\n",
      "\n",
      "\n",
      "\n",
      "Passing `palette` without assigning `hue` is deprecated and will be removed in v0.14.0. Assign the `y` variable to `hue` and set `legend=False` for the same effect.\n",
      "\n",
      "\n"
     ]
    },
    {
     "data": {
      "image/png": "[encoded data removed]",
      "text/plain": [
       "<Figure size 1000x600 with 1 Axes>"
      ]
     },
     "metadata": {},
     "output_type": "display_data"
    },
    {
     "name": "stdout",
     "output_type": "stream",
     "text": [
      "non_dreaming    1.124903\n",
      "exposure        0.311833\n",
      "gestation       0.303173\n",
      "dreaming        0.247215\n",
      "danger          0.233122\n",
      "life_span       0.142288\n",
      "predation       0.062539\n",
      "brain_wt        0.042063\n",
      "body_wt         0.023635\n",
      "Name: MI Scores, dtype: float64\n"
     ]
    }
   ],
   "source": [
    "# MUTUAL INFORMATION SCORES\n",
    "\n",
    "\n",
    "\n",
    "# Calculate mutual information (_r or _c)\n",
    "m_info_scores = m_info_r(X_m, y_m)\n",
    "\n",
    "# Plot the mutual information scores\n",
    "plot_mi_scores(m_info_scores, top_n=20)\n",
    "\n",
    "# Display the top 10 mutual information scores\n",
    "print(m_info_scores.head(10))"
   ]
  },
  {
   "cell_type": "markdown",
   "metadata": {},
   "source": [
    "ANALYSIS"
   ]
  },
  {
   "cell_type": "code",
   "execution_count": 37,
   "metadata": {},
   "outputs": [
    {
     "data": {
      "application/vnd.plotly.v1+json": {
       "config": {
        "plotlyServerURL": "https://plot.ly"
       },
       "data": [
        {
         "marker": {
          "color": "rgb(76, 175, 80)",
          "line": {
           "color": "rgba(0,0,0,1)",
           "width": 2
          },
          "opacity": 1
         },
         "text": [
          15,
          14,
          14,
          12,
          7
         ],
         "textposition": "outside",
         "type": "bar",
         "width": 0.4,
         "x": [
          2,
          1,
          5,
          3,
          4
         ],
         "y": [
          15,
          14,
          14,
          12,
          7
         ]
        }
       ],
       "layout": {
        "font": {
         "color": "white"
        },
        "height": 500,
        "paper_bgcolor": "rgba(34, 34, 34, 1)",
        "plot_bgcolor": "rgba(34, 34, 34, 1)",
        "template": {
         "data": {
          "bar": [
           {
            "error_x": {
             "color": "#2a3f5f"
            },
            "error_y": {
             "color": "#2a3f5f"
            },
            "marker": {
             "line": {
              "color": "#E5ECF6",
              "width": 0.5
             },
             "pattern": {
              "fillmode": "overlay",
              "size": 10,
              "solidity": 0.2
             }
            },
            "type": "bar"
           }
          ],
          "barpolar": [
           {
            "marker": {
             "line": {
              "color": "#E5ECF6",
              "width": 0.5
             },
             "pattern": {
              "fillmode": "overlay",
              "size": 10,
              "solidity": 0.2
             }
            },
            "type": "barpolar"
           }
          ],
          "carpet": [
           {
            "aaxis": {
             "endlinecolor": "#2a3f5f",
             "gridcolor": "white",
             "linecolor": "white",
             "minorgridcolor": "white",
             "startlinecolor": "#2a3f5f"
            },
            "baxis": {
             "endlinecolor": "#2a3f5f",
             "gridcolor": "white",
             "linecolor": "white",
             "minorgridcolor": "white",
             "startlinecolor": "#2a3f5f"
            },
            "type": "carpet"
           }
          ],
          "choropleth": [
           {
            "colorbar": {
             "outlinewidth": 0,
             "ticks": ""
            },
            "type": "choropleth"
           }
          ],
          "contour": [
           {
            "colorbar": {
             "outlinewidth": 0,
             "ticks": ""
            },
            "colorscale": [
             [
              0,
              "#0d0887"
             ],
             [
              0.1111111111111111,
              "#46039f"
             ],
             [
              0.2222222222222222,
              "#7201a8"
             ],
             [
              0.3333333333333333,
              "#9c179e"
             ],
             [
              0.4444444444444444,
              "#bd3786"
             ],
             [
              0.5555555555555556,
              "#d8576b"
             ],
             [
              0.6666666666666666,
              "#ed7953"
             ],
             [
              0.7777777777777778,
              "#fb9f3a"
             ],
             [
              0.8888888888888888,
              "#fdca26"
             ],
             [
              1,
              "#f0f921"
             ]
            ],
            "type": "contour"
           }
          ],
          "contourcarpet": [
           {
            "colorbar": {
             "outlinewidth": 0,
             "ticks": ""
            },
            "type": "contourcarpet"
           }
          ],
          "heatmap": [
           {
            "colorbar": {
             "outlinewidth": 0,
             "ticks": ""
            },
            "colorscale": [
             [
              0,
              "#0d0887"
             ],
             [
              0.1111111111111111,
              "#46039f"
             ],
             [
              0.2222222222222222,
              "#7201a8"
             ],
             [
              0.3333333333333333,
              "#9c179e"
             ],
             [
              0.4444444444444444,
              "#bd3786"
             ],
             [
              0.5555555555555556,
              "#d8576b"
             ],
             [
              0.6666666666666666,
              "#ed7953"
             ],
             [
              0.7777777777777778,
              "#fb9f3a"
             ],
             [
              0.8888888888888888,
              "#fdca26"
             ],
             [
              1,
              "#f0f921"
             ]
            ],
            "type": "heatmap"
           }
          ],
          "heatmapgl": [
           {
            "colorbar": {
             "outlinewidth": 0,
             "ticks": ""
            },
            "colorscale": [
             [
              0,
              "#0d0887"
             ],
             [
              0.1111111111111111,
              "#46039f"
             ],
             [
              0.2222222222222222,
              "#7201a8"
             ],
             [
              0.3333333333333333,
              "#9c179e"
             ],
             [
              0.4444444444444444,
              "#bd3786"
             ],
             [
              0.5555555555555556,
              "#d8576b"
             ],
             [
              0.6666666666666666,
              "#ed7953"
             ],
             [
              0.7777777777777778,
              "#fb9f3a"
             ],
             [
              0.8888888888888888,
              "#fdca26"
             ],
             [
              1,
              "#f0f921"
             ]
            ],
            "type": "heatmapgl"
           }
          ],
          "histogram": [
           {
            "marker": {
             "pattern": {
              "fillmode": "overlay",
              "size": 10,
              "solidity": 0.2
             }
            },
            "type": "histogram"
           }
          ],
          "histogram2d": [
           {
            "colorbar": {
             "outlinewidth": 0,
             "ticks": ""
            },
            "colorscale": [
             [
              0,
              "#0d0887"
             ],
             [
              0.1111111111111111,
              "#46039f"
             ],
             [
              0.2222222222222222,
              "#7201a8"
             ],
             [
              0.3333333333333333,
              "#9c179e"
             ],
             [
              0.4444444444444444,
              "#bd3786"
             ],
             [
              0.5555555555555556,
              "#d8576b"
             ],
             [
              0.6666666666666666,
              "#ed7953"
             ],
             [
              0.7777777777777778,
              "#fb9f3a"
             ],
             [
              0.8888888888888888,
              "#fdca26"
             ],
             [
              1,
              "#f0f921"
             ]
            ],
            "type": "histogram2d"
           }
          ],
          "histogram2dcontour": [
           {
            "colorbar": {
             "outlinewidth": 0,
             "ticks": ""
            },
            "colorscale": [
             [
              0,
              "#0d0887"
             ],
             [
              0.1111111111111111,
              "#46039f"
             ],
             [
              0.2222222222222222,
              "#7201a8"
             ],
             [
              0.3333333333333333,
              "#9c179e"
             ],
             [
              0.4444444444444444,
              "#bd3786"
             ],
             [
              0.5555555555555556,
              "#d8576b"
             ],
             [
              0.6666666666666666,
              "#ed7953"
             ],
             [
              0.7777777777777778,
              "#fb9f3a"
             ],
             [
              0.8888888888888888,
              "#fdca26"
             ],
             [
              1,
              "#f0f921"
             ]
            ],
            "type": "histogram2dcontour"
           }
          ],
          "mesh3d": [
           {
            "colorbar": {
             "outlinewidth": 0,
             "ticks": ""
            },
            "type": "mesh3d"
           }
          ],
          "parcoords": [
           {
            "line": {
             "colorbar": {
              "outlinewidth": 0,
              "ticks": ""
             }
            },
            "type": "parcoords"
           }
          ],
          "pie": [
           {
            "automargin": true,
            "type": "pie"
           }
          ],
          "scatter": [
           {
            "fillpattern": {
             "fillmode": "overlay",
             "size": 10,
             "solidity": 0.2
            },
            "type": "scatter"
           }
          ],
          "scatter3d": [
           {
            "line": {
             "colorbar": {
              "outlinewidth": 0,
              "ticks": ""
             }
            },
            "marker": {
             "colorbar": {
              "outlinewidth": 0,
              "ticks": ""
             }
            },
            "type": "scatter3d"
           }
          ],
          "scattercarpet": [
           {
            "marker": {
             "colorbar": {
              "outlinewidth": 0,
              "ticks": ""
             }
            },
            "type": "scattercarpet"
           }
          ],
          "scattergeo": [
           {
            "marker": {
             "colorbar": {
              "outlinewidth": 0,
              "ticks": ""
             }
            },
            "type": "scattergeo"
           }
          ],
          "scattergl": [
           {
            "marker": {
             "colorbar": {
              "outlinewidth": 0,
              "ticks": ""
             }
            },
            "type": "scattergl"
           }
          ],
          "scattermapbox": [
           {
            "marker": {
             "colorbar": {
              "outlinewidth": 0,
              "ticks": ""
             }
            },
            "type": "scattermapbox"
           }
          ],
          "scatterpolar": [
           {
            "marker": {
             "colorbar": {
              "outlinewidth": 0,
              "ticks": ""
             }
            },
            "type": "scatterpolar"
           }
          ],
          "scatterpolargl": [
           {
            "marker": {
             "colorbar": {
              "outlinewidth": 0,
              "ticks": ""
             }
            },
            "type": "scatterpolargl"
           }
          ],
          "scatterternary": [
           {
            "marker": {
             "colorbar": {
              "outlinewidth": 0,
              "ticks": ""
             }
            },
            "type": "scatterternary"
           }
          ],
          "surface": [
           {
            "colorbar": {
             "outlinewidth": 0,
             "ticks": ""
            },
            "colorscale": [
             [
              0,
              "#0d0887"
             ],
             [
              0.1111111111111111,
              "#46039f"
             ],
             [
              0.2222222222222222,
              "#7201a8"
             ],
             [
              0.3333333333333333,
              "#9c179e"
             ],
             [
              0.4444444444444444,
              "#bd3786"
             ],
             [
              0.5555555555555556,
              "#d8576b"
             ],
             [
              0.6666666666666666,
              "#ed7953"
             ],
             [
              0.7777777777777778,
              "#fb9f3a"
             ],
             [
              0.8888888888888888,
              "#fdca26"
             ],
             [
              1,
              "#f0f921"
             ]
            ],
            "type": "surface"
           }
          ],
          "table": [
           {
            "cells": {
             "fill": {
              "color": "#EBF0F8"
             },
             "line": {
              "color": "white"
             }
            },
            "header": {
             "fill": {
              "color": "#C8D4E3"
             },
             "line": {
              "color": "white"
             }
            },
            "type": "table"
           }
          ]
         },
         "layout": {
          "annotationdefaults": {
           "arrowcolor": "#2a3f5f",
           "arrowhead": 0,
           "arrowwidth": 1
          },
          "autotypenumbers": "strict",
          "coloraxis": {
           "colorbar": {
            "outlinewidth": 0,
            "ticks": ""
           }
          },
          "colorscale": {
           "diverging": [
            [
             0,
             "#8e0152"
            ],
            [
             0.1,
             "#c51b7d"
            ],
            [
             0.2,
             "#de77ae"
            ],
            [
             0.3,
             "#f1b6da"
            ],
            [
             0.4,
             "#fde0ef"
            ],
            [
             0.5,
             "#f7f7f7"
            ],
            [
             0.6,
             "#e6f5d0"
            ],
            [
             0.7,
             "#b8e186"
            ],
            [
             0.8,
             "#7fbc41"
            ],
            [
             0.9,
             "#4d9221"
            ],
            [
             1,
             "#276419"
            ]
           ],
           "sequential": [
            [
             0,
             "#0d0887"
            ],
            [
             0.1111111111111111,
             "#46039f"
            ],
            [
             0.2222222222222222,
             "#7201a8"
            ],
            [
             0.3333333333333333,
             "#9c179e"
            ],
            [
             0.4444444444444444,
             "#bd3786"
            ],
            [
             0.5555555555555556,
             "#d8576b"
            ],
            [
             0.6666666666666666,
             "#ed7953"
            ],
            [
             0.7777777777777778,
             "#fb9f3a"
            ],
            [
             0.8888888888888888,
             "#fdca26"
            ],
            [
             1,
             "#f0f921"
            ]
           ],
           "sequentialminus": [
            [
             0,
             "#0d0887"
            ],
            [
             0.1111111111111111,
             "#46039f"
            ],
            [
             0.2222222222222222,
             "#7201a8"
            ],
            [
             0.3333333333333333,
             "#9c179e"
            ],
            [
             0.4444444444444444,
             "#bd3786"
            ],
            [
             0.5555555555555556,
             "#d8576b"
            ],
            [
             0.6666666666666666,
             "#ed7953"
            ],
            [
             0.7777777777777778,
             "#fb9f3a"
            ],
            [
             0.8888888888888888,
             "#fdca26"
            ],
            [
             1,
             "#f0f921"
            ]
           ]
          },
          "colorway": [
           "#636efa",
           "#EF553B",
           "#00cc96",
           "#ab63fa",
           "#FFA15A",
           "#19d3f3",
           "#FF6692",
           "#B6E880",
           "#FF97FF",
           "#FECB52"
          ],
          "font": {
           "color": "#2a3f5f"
          },
          "geo": {
           "bgcolor": "white",
           "lakecolor": "white",
           "landcolor": "#E5ECF6",
           "showlakes": true,
           "showland": true,
           "subunitcolor": "white"
          },
          "hoverlabel": {
           "align": "left"
          },
          "hovermode": "closest",
          "mapbox": {
           "style": "light"
          },
          "paper_bgcolor": "white",
          "plot_bgcolor": "#E5ECF6",
          "polar": {
           "angularaxis": {
            "gridcolor": "white",
            "linecolor": "white",
            "ticks": ""
           },
           "bgcolor": "#E5ECF6",
           "radialaxis": {
            "gridcolor": "white",
            "linecolor": "white",
            "ticks": ""
           }
          },
          "scene": {
           "xaxis": {
            "backgroundcolor": "#E5ECF6",
            "gridcolor": "white",
            "gridwidth": 2,
            "linecolor": "white",
            "showbackground": true,
            "ticks": "",
            "zerolinecolor": "white"
           },
           "yaxis": {
            "backgroundcolor": "#E5ECF6",
            "gridcolor": "white",
            "gridwidth": 2,
            "linecolor": "white",
            "showbackground": true,
            "ticks": "",
            "zerolinecolor": "white"
           },
           "zaxis": {
            "backgroundcolor": "#E5ECF6",
            "gridcolor": "white",
            "gridwidth": 2,
            "linecolor": "white",
            "showbackground": true,
            "ticks": "",
            "zerolinecolor": "white"
           }
          },
          "shapedefaults": {
           "line": {
            "color": "#2a3f5f"
           }
          },
          "ternary": {
           "aaxis": {
            "gridcolor": "white",
            "linecolor": "white",
            "ticks": ""
           },
           "baxis": {
            "gridcolor": "white",
            "linecolor": "white",
            "ticks": ""
           },
           "bgcolor": "#E5ECF6",
           "caxis": {
            "gridcolor": "white",
            "linecolor": "white",
            "ticks": ""
           }
          },
          "title": {
           "x": 0.05
          },
          "xaxis": {
           "automargin": true,
           "gridcolor": "white",
           "linecolor": "white",
           "ticks": "",
           "title": {
            "standoff": 15
           },
           "zerolinecolor": "white",
           "zerolinewidth": 2
          },
          "yaxis": {
           "automargin": true,
           "gridcolor": "white",
           "linecolor": "white",
           "ticks": "",
           "title": {
            "standoff": 15
           },
           "zerolinecolor": "white",
           "zerolinewidth": 2
          }
         }
        },
        "title": {
         "text": "Distribution of predation"
        },
        "xaxis": {
         "title": {
          "text": "predation"
         }
        },
        "yaxis": {
         "title": {
          "text": "Count"
         }
        }
       }
      }
     },
     "metadata": {},
     "output_type": "display_data"
    },
    {
     "data": {
      "application/vnd.plotly.v1+json": {
       "config": {
        "plotlyServerURL": "https://plot.ly"
       },
       "data": [
        {
         "marker": {
          "color": "rgb(156, 39, 176)",
          "line": {
           "color": "rgba(0,0,0,1)",
           "width": 2
          },
          "opacity": 1
         },
         "text": [
          "12.05",
          "12.72",
          "9.12",
          "10.23",
          "7.38"
         ],
         "textposition": "outside",
         "type": "bar",
         "width": 0.4,
         "x": [
          1,
          2,
          3,
          4,
          5
         ],
         "y": [
          12.049999999999999,
          12.719999999999999,
          9.120000000000001,
          10.228571428571428,
          7.383333333333333
         ]
        }
       ],
       "layout": {
        "font": {
         "color": "white"
        },
        "height": 500,
        "paper_bgcolor": "rgba(34, 34, 34, 1)",
        "plot_bgcolor": "rgba(34, 34, 34, 1)",
        "template": {
         "data": {
          "bar": [
           {
            "error_x": {
             "color": "#2a3f5f"
            },
            "error_y": {
             "color": "#2a3f5f"
            },
            "marker": {
             "line": {
              "color": "#E5ECF6",
              "width": 0.5
             },
             "pattern": {
              "fillmode": "overlay",
              "size": 10,
              "solidity": 0.2
             }
            },
            "type": "bar"
           }
          ],
          "barpolar": [
           {
            "marker": {
             "line": {
              "color": "#E5ECF6",
              "width": 0.5
             },
             "pattern": {
              "fillmode": "overlay",
              "size": 10,
              "solidity": 0.2
             }
            },
            "type": "barpolar"
           }
          ],
          "carpet": [
           {
            "aaxis": {
             "endlinecolor": "#2a3f5f",
             "gridcolor": "white",
             "linecolor": "white",
             "minorgridcolor": "white",
             "startlinecolor": "#2a3f5f"
            },
            "baxis": {
             "endlinecolor": "#2a3f5f",
             "gridcolor": "white",
             "linecolor": "white",
             "minorgridcolor": "white",
             "startlinecolor": "#2a3f5f"
            },
            "type": "carpet"
           }
          ],
          "choropleth": [
           {
            "colorbar": {
             "outlinewidth": 0,
             "ticks": ""
            },
            "type": "choropleth"
           }
          ],
          "contour": [
           {
            "colorbar": {
             "outlinewidth": 0,
             "ticks": ""
            },
            "colorscale": [
             [
              0,
              "#0d0887"
             ],
             [
              0.1111111111111111,
              "#46039f"
             ],
             [
              0.2222222222222222,
              "#7201a8"
             ],
             [
              0.3333333333333333,
              "#9c179e"
             ],
             [
              0.4444444444444444,
              "#bd3786"
             ],
             [
              0.5555555555555556,
              "#d8576b"
             ],
             [
              0.6666666666666666,
              "#ed7953"
             ],
             [
              0.7777777777777778,
              "#fb9f3a"
             ],
             [
              0.8888888888888888,
              "#fdca26"
             ],
             [
              1,
              "#f0f921"
             ]
            ],
            "type": "contour"
           }
          ],
          "contourcarpet": [
           {
            "colorbar": {
             "outlinewidth": 0,
             "ticks": ""
            },
            "type": "contourcarpet"
           }
          ],
          "heatmap": [
           {
            "colorbar": {
             "outlinewidth": 0,
             "ticks": ""
            },
            "colorscale": [
             [
              0,
              "#0d0887"
             ],
             [
              0.1111111111111111,
              "#46039f"
             ],
             [
              0.2222222222222222,
              "#7201a8"
             ],
             [
              0.3333333333333333,
              "#9c179e"
             ],
             [
              0.4444444444444444,
              "#bd3786"
             ],
             [
              0.5555555555555556,
              "#d8576b"
             ],
             [
              0.6666666666666666,
              "#ed7953"
             ],
             [
              0.7777777777777778,
              "#fb9f3a"
             ],
             [
              0.8888888888888888,
              "#fdca26"
             ],
             [
              1,
              "#f0f921"
             ]
            ],
            "type": "heatmap"
           }
          ],
          "heatmapgl": [
           {
            "colorbar": {
             "outlinewidth": 0,
             "ticks": ""
            },
            "colorscale": [
             [
              0,
              "#0d0887"
             ],
             [
              0.1111111111111111,
              "#46039f"
             ],
             [
              0.2222222222222222,
              "#7201a8"
             ],
             [
              0.3333333333333333,
              "#9c179e"
             ],
             [
              0.4444444444444444,
              "#bd3786"
             ],
             [
              0.5555555555555556,
              "#d8576b"
             ],
             [
              0.6666666666666666,
              "#ed7953"
             ],
             [
              0.7777777777777778,
              "#fb9f3a"
             ],
             [
              0.8888888888888888,
              "#fdca26"
             ],
             [
              1,
              "#f0f921"
             ]
            ],
            "type": "heatmapgl"
           }
          ],
          "histogram": [
           {
            "marker": {
             "pattern": {
              "fillmode": "overlay",
              "size": 10,
              "solidity": 0.2
             }
            },
            "type": "histogram"
           }
          ],
          "histogram2d": [
           {
            "colorbar": {
             "outlinewidth": 0,
             "ticks": ""
            },
            "colorscale": [
             [
              0,
              "#0d0887"
             ],
             [
              0.1111111111111111,
              "#46039f"
             ],
             [
              0.2222222222222222,
              "#7201a8"
             ],
             [
              0.3333333333333333,
              "#9c179e"
             ],
             [
              0.4444444444444444,
              "#bd3786"
             ],
             [
              0.5555555555555556,
              "#d8576b"
             ],
             [
              0.6666666666666666,
              "#ed7953"
             ],
             [
              0.7777777777777778,
              "#fb9f3a"
             ],
             [
              0.8888888888888888,
              "#fdca26"
             ],
             [
              1,
              "#f0f921"
             ]
            ],
            "type": "histogram2d"
           }
          ],
          "histogram2dcontour": [
           {
            "colorbar": {
             "outlinewidth": 0,
             "ticks": ""
            },
            "colorscale": [
             [
              0,
              "#0d0887"
             ],
             [
              0.1111111111111111,
              "#46039f"
             ],
             [
              0.2222222222222222,
              "#7201a8"
             ],
             [
              0.3333333333333333,
              "#9c179e"
             ],
             [
              0.4444444444444444,
              "#bd3786"
             ],
             [
              0.5555555555555556,
              "#d8576b"
             ],
             [
              0.6666666666666666,
              "#ed7953"
             ],
             [
              0.7777777777777778,
              "#fb9f3a"
             ],
             [
              0.8888888888888888,
              "#fdca26"
             ],
             [
              1,
              "#f0f921"
             ]
            ],
            "type": "histogram2dcontour"
           }
          ],
          "mesh3d": [
           {
            "colorbar": {
             "outlinewidth": 0,
             "ticks": ""
            },
            "type": "mesh3d"
           }
          ],
          "parcoords": [
           {
            "line": {
             "colorbar": {
              "outlinewidth": 0,
              "ticks": ""
             }
            },
            "type": "parcoords"
           }
          ],
          "pie": [
           {
            "automargin": true,
            "type": "pie"
           }
          ],
          "scatter": [
           {
            "fillpattern": {
             "fillmode": "overlay",
             "size": 10,
             "solidity": 0.2
            },
            "type": "scatter"
           }
          ],
          "scatter3d": [
           {
            "line": {
             "colorbar": {
              "outlinewidth": 0,
              "ticks": ""
             }
            },
            "marker": {
             "colorbar": {
              "outlinewidth": 0,
              "ticks": ""
             }
            },
            "type": "scatter3d"
           }
          ],
          "scattercarpet": [
           {
            "marker": {
             "colorbar": {
              "outlinewidth": 0,
              "ticks": ""
             }
            },
            "type": "scattercarpet"
           }
          ],
          "scattergeo": [
           {
            "marker": {
             "colorbar": {
              "outlinewidth": 0,
              "ticks": ""
             }
            },
            "type": "scattergeo"
           }
          ],
          "scattergl": [
           {
            "marker": {
             "colorbar": {
              "outlinewidth": 0,
              "ticks": ""
             }
            },
            "type": "scattergl"
           }
          ],
          "scattermapbox": [
           {
            "marker": {
             "colorbar": {
              "outlinewidth": 0,
              "ticks": ""
             }
            },
            "type": "scattermapbox"
           }
          ],
          "scatterpolar": [
           {
            "marker": {
             "colorbar": {
              "outlinewidth": 0,
              "ticks": ""
             }
            },
            "type": "scatterpolar"
           }
          ],
          "scatterpolargl": [
           {
            "marker": {
             "colorbar": {
              "outlinewidth": 0,
              "ticks": ""
             }
            },
            "type": "scatterpolargl"
           }
          ],
          "scatterternary": [
           {
            "marker": {
             "colorbar": {
              "outlinewidth": 0,
              "ticks": ""
             }
            },
            "type": "scatterternary"
           }
          ],
          "surface": [
           {
            "colorbar": {
             "outlinewidth": 0,
             "ticks": ""
            },
            "colorscale": [
             [
              0,
              "#0d0887"
             ],
             [
              0.1111111111111111,
              "#46039f"
             ],
             [
              0.2222222222222222,
              "#7201a8"
             ],
             [
              0.3333333333333333,
              "#9c179e"
             ],
             [
              0.4444444444444444,
              "#bd3786"
             ],
             [
              0.5555555555555556,
              "#d8576b"
             ],
             [
              0.6666666666666666,
              "#ed7953"
             ],
             [
              0.7777777777777778,
              "#fb9f3a"
             ],
             [
              0.8888888888888888,
              "#fdca26"
             ],
             [
              1,
              "#f0f921"
             ]
            ],
            "type": "surface"
           }
          ],
          "table": [
           {
            "cells": {
             "fill": {
              "color": "#EBF0F8"
             },
             "line": {
              "color": "white"
             }
            },
            "header": {
             "fill": {
              "color": "#C8D4E3"
             },
             "line": {
              "color": "white"
             }
            },
            "type": "table"
           }
          ]
         },
         "layout": {
          "annotationdefaults": {
           "arrowcolor": "#2a3f5f",
           "arrowhead": 0,
           "arrowwidth": 1
          },
          "autotypenumbers": "strict",
          "coloraxis": {
           "colorbar": {
            "outlinewidth": 0,
            "ticks": ""
           }
          },
          "colorscale": {
           "diverging": [
            [
             0,
             "#8e0152"
            ],
            [
             0.1,
             "#c51b7d"
            ],
            [
             0.2,
             "#de77ae"
            ],
            [
             0.3,
             "#f1b6da"
            ],
            [
             0.4,
             "#fde0ef"
            ],
            [
             0.5,
             "#f7f7f7"
            ],
            [
             0.6,
             "#e6f5d0"
            ],
            [
             0.7,
             "#b8e186"
            ],
            [
             0.8,
             "#7fbc41"
            ],
            [
             0.9,
             "#4d9221"
            ],
            [
             1,
             "#276419"
            ]
           ],
           "sequential": [
            [
             0,
             "#0d0887"
            ],
            [
             0.1111111111111111,
             "#46039f"
            ],
            [
             0.2222222222222222,
             "#7201a8"
            ],
            [
             0.3333333333333333,
             "#9c179e"
            ],
            [
             0.4444444444444444,
             "#bd3786"
            ],
            [
             0.5555555555555556,
             "#d8576b"
            ],
            [
             0.6666666666666666,
             "#ed7953"
            ],
            [
             0.7777777777777778,
             "#fb9f3a"
            ],
            [
             0.8888888888888888,
             "#fdca26"
            ],
            [
             1,
             "#f0f921"
            ]
           ],
           "sequentialminus": [
            [
             0,
             "#0d0887"
            ],
            [
             0.1111111111111111,
             "#46039f"
            ],
            [
             0.2222222222222222,
             "#7201a8"
            ],
            [
             0.3333333333333333,
             "#9c179e"
            ],
            [
             0.4444444444444444,
             "#bd3786"
            ],
            [
             0.5555555555555556,
             "#d8576b"
            ],
            [
             0.6666666666666666,
             "#ed7953"
            ],
            [
             0.7777777777777778,
             "#fb9f3a"
            ],
            [
             0.8888888888888888,
             "#fdca26"
            ],
            [
             1,
             "#f0f921"
            ]
           ]
          },
          "colorway": [
           "#636efa",
           "#EF553B",
           "#00cc96",
           "#ab63fa",
           "#FFA15A",
           "#19d3f3",
           "#FF6692",
           "#B6E880",
           "#FF97FF",
           "#FECB52"
          ],
          "font": {
           "color": "#2a3f5f"
          },
          "geo": {
           "bgcolor": "white",
           "lakecolor": "white",
           "landcolor": "#E5ECF6",
           "showlakes": true,
           "showland": true,
           "subunitcolor": "white"
          },
          "hoverlabel": {
           "align": "left"
          },
          "hovermode": "closest",
          "mapbox": {
           "style": "light"
          },
          "paper_bgcolor": "white",
          "plot_bgcolor": "#E5ECF6",
          "polar": {
           "angularaxis": {
            "gridcolor": "white",
            "linecolor": "white",
            "ticks": ""
           },
           "bgcolor": "#E5ECF6",
           "radialaxis": {
            "gridcolor": "white",
            "linecolor": "white",
            "ticks": ""
           }
          },
          "scene": {
           "xaxis": {
            "backgroundcolor": "#E5ECF6",
            "gridcolor": "white",
            "gridwidth": 2,
            "linecolor": "white",
            "showbackground": true,
            "ticks": "",
            "zerolinecolor": "white"
           },
           "yaxis": {
            "backgroundcolor": "#E5ECF6",
            "gridcolor": "white",
            "gridwidth": 2,
            "linecolor": "white",
            "showbackground": true,
            "ticks": "",
            "zerolinecolor": "white"
           },
           "zaxis": {
            "backgroundcolor": "#E5ECF6",
            "gridcolor": "white",
            "gridwidth": 2,
            "linecolor": "white",
            "showbackground": true,
            "ticks": "",
            "zerolinecolor": "white"
           }
          },
          "shapedefaults": {
           "line": {
            "color": "#2a3f5f"
           }
          },
          "ternary": {
           "aaxis": {
            "gridcolor": "white",
            "linecolor": "white",
            "ticks": ""
           },
           "baxis": {
            "gridcolor": "white",
            "linecolor": "white",
            "ticks": ""
           },
           "bgcolor": "#E5ECF6",
           "caxis": {
            "gridcolor": "white",
            "linecolor": "white",
            "ticks": ""
           }
          },
          "title": {
           "x": 0.05
          },
          "xaxis": {
           "automargin": true,
           "gridcolor": "white",
           "linecolor": "white",
           "ticks": "",
           "title": {
            "standoff": 15
           },
           "zerolinecolor": "white",
           "zerolinewidth": 2
          },
          "yaxis": {
           "automargin": true,
           "gridcolor": "white",
           "linecolor": "white",
           "ticks": "",
           "title": {
            "standoff": 15
           },
           "zerolinecolor": "white",
           "zerolinewidth": 2
          }
         }
        },
        "title": {
         "text": "Average total_sleep by predation"
        },
        "xaxis": {
         "title": {
          "text": "predation"
         }
        },
        "yaxis": {
         "title": {
          "text": "total_sleep"
         }
        }
       }
      }
     },
     "metadata": {},
     "output_type": "display_data"
    }
   ],
   "source": [
    "# Predation\n",
    "\n",
    "explore_categorical_relationships(df, 'predation', target)\n",
    "\n"
   ]
  },
  {
   "cell_type": "markdown",
   "metadata": {},
   "source": [
    "**The \"risk of predation\" refers to the likelihood or risk of an animal being hunted or preyed upon by other animals.** It's a measure of how vulnerable a species is to predation or being the target of predators in its natural environment.\n",
    "\n",
    "**Species with a high risk of predation are more likely to be hunted by other animals,** while those with a low risk of predation are less likely to be targeted by predators. This concept is important in ecology and animal behavior studies as it influences various aspects of an animal's life, such as its behavior, habitat selection, and survival strategies."
   ]
  },
  {
   "cell_type": "markdown",
   "metadata": {},
   "source": [
    "NUMERICAL ANALYSIS"
   ]
  },
  {
   "cell_type": "code",
   "execution_count": 38,
   "metadata": {},
   "outputs": [
    {
     "name": "stdout",
     "output_type": "stream",
     "text": [
      "\n",
      "Highest Correlation Values:\n"
     ]
    },
    {
     "name": "stdout",
     "output_type": "stream",
     "text": [
      "non_dreaming  total_sleep    0.962715\n",
      "brain_wt      body_wt        0.934164\n",
      "danger        predation      0.916042\n",
      "              exposure       0.787203\n",
      "brain_wt      gestation      0.747242\n",
      "dreaming      total_sleep    0.727087\n",
      "body_wt       gestation      0.651102\n",
      "exposure      gestation      0.638279\n",
      "dtype: float64\n"
     ]
    },
    {
     "data": {
      "image/png": "[encoded data removed]",
      "text/plain": [
       "<Figure size 600x400 with 2 Axes>"
      ]
     },
     "metadata": {},
     "output_type": "display_data"
    }
   ],
   "source": [
    "# CORRELATION\n",
    "\n",
    "correlation_matrix = df.corr(numeric_only=True)\n",
    "\n",
    "# Get the highest correlation values (excluding self-correlations)\n",
    "highest_corr = correlation_matrix.unstack().sort_values(ascending=False).drop_duplicates()\n",
    "highest_corr = highest_corr[(highest_corr != 1.0) & (highest_corr > 0)]\n",
    "\n",
    "# Display the highest correlation values\n",
    "print(\"\\nHighest Correlation Values:\")\n",
    "print(highest_corr[:8])\n",
    "\n",
    "\n",
    "\n",
    "seaborn_correlation_matrix(df)"
   ]
  },
  {
   "cell_type": "markdown",
   "metadata": {},
   "source": [
    "These correlation values indicate the strength and direction of relationships between pairs of variables in the dataset.\n",
    "\n",
    "1. **Non-Dreaming Sleep and Total Sleep (0.9627):** This strong positive correlation suggests that as the duration of non-dreaming sleep increases, the total sleep duration also tends to increase. These two sleep patterns are closely related.\n",
    "\n",
    "2. **Brain Weight and Body Weight (0.9342):** A high positive correlation indicates that larger animals with higher body weights tend to have larger brains. There is a strong association between body size and brain size.\n",
    "\n",
    "3. **Danger and Predation (0.9160):** The positive correlation implies that species facing higher perceived danger levels are more likely to experience increased predation risk. These two variables are positively related.\n",
    "\n",
    "4. **Danger and Exposure (0.7872):** There is a positive correlation between danger and exposure, suggesting that animals in more dangerous environments tend to have higher levels of exposure to these risks.\n",
    "\n",
    "5. **Brain Weight and Gestation (0.7472):** The positive correlation indicates that species with larger brains tend to have longer gestation periods. Brain size appears to be related to the duration of gestation.\n",
    "\n",
    "6. **Dreaming Sleep and Total Sleep (0.7271):** The positive correlation suggests that as total sleep duration increases, the duration of dreaming sleep also tends to increase. These two types of sleep are positively associated.\n",
    "\n",
    "7. **Body Weight and Gestation (0.6511):** This correlation indicates that larger animals with higher body weights tend to have longer gestation periods. There is a moderate positive relationship between body weight and gestation duration.\n",
    "\n",
    "8. **Exposure and Gestation (0.6383):** The positive correlation implies that species in environments with higher exposure levels tend to have longer gestation periods. Exposure and gestation are positively related.\n",
    "\n"
   ]
  },
  {
   "cell_type": "markdown",
   "metadata": {},
   "source": [
    "**Based on the high positive correlation between \"Danger\" and \"Predation\"** (correlation value of 0.9160), it appears that these two variables are strongly related and provide similar information. In some cases, it might be reasonable to consider removing one of them to avoid redundancy in your analysis, as they are measuring similar aspects of risk or threat."
   ]
  },
  {
   "cell_type": "markdown",
   "metadata": {},
   "source": [
    "\n",
    "1. High correlation values between 'total_amount' and 'fare_amount' (0.987303) and 'total_amount' and 'tip_amount' (0.770913) suggest strong linear relationships.\n",
    "2. Multicollinearity, caused by highly correlated variables, can negatively affect the multiple linear regression model's stability and coefficient estimates.\n",
    "3. To address multicollinearity, consider dropping one of the highly correlated columns, possibly 'total_amount,' while considering domain knowledge and analysis objectives.\n",
    "4. Assess the model's performance after any changes to ensure its predictive power and interpretability remain intact."
   ]
  },
  {
   "cell_type": "code",
   "execution_count": 39,
   "metadata": {},
   "outputs": [
    {
     "data": {
      "text/html": [
       "<div>\n",
       "<style scoped>\n",
       "    .dataframe tbody tr th:only-of-type {\n",
       "        vertical-align: middle;\n",
       "    }\n",
       "\n",
       "    .dataframe tbody tr th {\n",
       "        vertical-align: top;\n",
       "    }\n",
       "\n",
       "    .dataframe thead th {\n",
       "        text-align: right;\n",
       "    }\n",
       "</style>\n",
       "<table border=\"1\" class=\"dataframe\">\n",
       "  <thead>\n",
       "    <tr style=\"text-align: right;\">\n",
       "      <th></th>\n",
       "      <th>count</th>\n",
       "      <th>mean</th>\n",
       "      <th>std</th>\n",
       "      <th>min</th>\n",
       "      <th>25%</th>\n",
       "      <th>50%</th>\n",
       "      <th>75%</th>\n",
       "      <th>max</th>\n",
       "    </tr>\n",
       "  </thead>\n",
       "  <tbody>\n",
       "    <tr>\n",
       "      <th>brain_wt</th>\n",
       "      <td>62.0</td>\n",
       "      <td>283.134194</td>\n",
       "      <td>930.278942</td>\n",
       "      <td>0.140</td>\n",
       "      <td>4.250</td>\n",
       "      <td>17.2500</td>\n",
       "      <td>166.0000</td>\n",
       "      <td>5712.0</td>\n",
       "    </tr>\n",
       "    <tr>\n",
       "      <th>body_wt</th>\n",
       "      <td>62.0</td>\n",
       "      <td>198.789984</td>\n",
       "      <td>899.158011</td>\n",
       "      <td>0.005</td>\n",
       "      <td>0.600</td>\n",
       "      <td>3.3425</td>\n",
       "      <td>48.2025</td>\n",
       "      <td>6654.0</td>\n",
       "    </tr>\n",
       "    <tr>\n",
       "      <th>gestation</th>\n",
       "      <td>58.0</td>\n",
       "      <td>142.353448</td>\n",
       "      <td>146.805039</td>\n",
       "      <td>12.000</td>\n",
       "      <td>35.750</td>\n",
       "      <td>79.0000</td>\n",
       "      <td>207.5000</td>\n",
       "      <td>645.0</td>\n",
       "    </tr>\n",
       "    <tr>\n",
       "      <th>life_span</th>\n",
       "      <td>58.0</td>\n",
       "      <td>19.877586</td>\n",
       "      <td>18.206255</td>\n",
       "      <td>2.000</td>\n",
       "      <td>6.625</td>\n",
       "      <td>15.1000</td>\n",
       "      <td>27.7500</td>\n",
       "      <td>100.0</td>\n",
       "    </tr>\n",
       "    <tr>\n",
       "      <th>total_sleep</th>\n",
       "      <td>58.0</td>\n",
       "      <td>10.532759</td>\n",
       "      <td>4.606760</td>\n",
       "      <td>2.600</td>\n",
       "      <td>8.050</td>\n",
       "      <td>10.4500</td>\n",
       "      <td>13.2000</td>\n",
       "      <td>19.9</td>\n",
       "    </tr>\n",
       "    <tr>\n",
       "      <th>non_dreaming</th>\n",
       "      <td>48.0</td>\n",
       "      <td>8.672917</td>\n",
       "      <td>3.666452</td>\n",
       "      <td>2.100</td>\n",
       "      <td>6.250</td>\n",
       "      <td>8.3500</td>\n",
       "      <td>11.0000</td>\n",
       "      <td>17.9</td>\n",
       "    </tr>\n",
       "    <tr>\n",
       "      <th>exposure</th>\n",
       "      <td>62.0</td>\n",
       "      <td>2.419355</td>\n",
       "      <td>1.604792</td>\n",
       "      <td>1.000</td>\n",
       "      <td>1.000</td>\n",
       "      <td>2.0000</td>\n",
       "      <td>4.0000</td>\n",
       "      <td>5.0</td>\n",
       "    </tr>\n",
       "    <tr>\n",
       "      <th>predation</th>\n",
       "      <td>62.0</td>\n",
       "      <td>2.870968</td>\n",
       "      <td>1.476414</td>\n",
       "      <td>1.000</td>\n",
       "      <td>2.000</td>\n",
       "      <td>3.0000</td>\n",
       "      <td>4.0000</td>\n",
       "      <td>5.0</td>\n",
       "    </tr>\n",
       "    <tr>\n",
       "      <th>dreaming</th>\n",
       "      <td>50.0</td>\n",
       "      <td>1.972000</td>\n",
       "      <td>1.442651</td>\n",
       "      <td>0.000</td>\n",
       "      <td>0.900</td>\n",
       "      <td>1.8000</td>\n",
       "      <td>2.5500</td>\n",
       "      <td>6.6</td>\n",
       "    </tr>\n",
       "    <tr>\n",
       "      <th>danger</th>\n",
       "      <td>62.0</td>\n",
       "      <td>2.612903</td>\n",
       "      <td>1.441252</td>\n",
       "      <td>1.000</td>\n",
       "      <td>1.000</td>\n",
       "      <td>2.0000</td>\n",
       "      <td>4.0000</td>\n",
       "      <td>5.0</td>\n",
       "    </tr>\n",
       "  </tbody>\n",
       "</table>\n",
       "</div>"
      ],
      "text/plain": [
       "              count        mean         std     min     25%      50%  \\\n",
       "brain_wt       62.0  283.134194  930.278942   0.140   4.250  17.2500   \n",
       "body_wt        62.0  198.789984  899.158011   0.005   0.600   3.3425   \n",
       "gestation      58.0  142.353448  146.805039  12.000  35.750  79.0000   \n",
       "life_span      58.0   19.877586   18.206255   2.000   6.625  15.1000   \n",
       "total_sleep    58.0   10.532759    4.606760   2.600   8.050  10.4500   \n",
       "non_dreaming   48.0    8.672917    3.666452   2.100   6.250   8.3500   \n",
       "exposure       62.0    2.419355    1.604792   1.000   1.000   2.0000   \n",
       "predation      62.0    2.870968    1.476414   1.000   2.000   3.0000   \n",
       "dreaming       50.0    1.972000    1.442651   0.000   0.900   1.8000   \n",
       "danger         62.0    2.612903    1.441252   1.000   1.000   2.0000   \n",
       "\n",
       "                   75%     max  \n",
       "brain_wt      166.0000  5712.0  \n",
       "body_wt        48.2025  6654.0  \n",
       "gestation     207.5000   645.0  \n",
       "life_span      27.7500   100.0  \n",
       "total_sleep    13.2000    19.9  \n",
       "non_dreaming   11.0000    17.9  \n",
       "exposure        4.0000     5.0  \n",
       "predation       4.0000     5.0  \n",
       "dreaming        2.5500     6.6  \n",
       "danger          4.0000     5.0  "
      ]
     },
     "execution_count": 39,
     "metadata": {},
     "output_type": "execute_result"
    }
   ],
   "source": [
    "# STATS\n",
    "summary = df.describe().T.sort_values(by='std', ascending=False).head(10)\n",
    "summary"
   ]
  },
  {
   "cell_type": "markdown",
   "metadata": {},
   "source": [
    "The data shows a remarkable diversity in brain weights, ranging from as low as 0.140 grams to an astonishing 5712 grams, with an average of 283.13 grams. Similarly, body weights vary widely, from 0.005 grams to 6654 grams, with a mean of 198.79 grams.\n",
    "\n",
    "**Gestation periods also vary significantly,** with the shortest being 12 days and the longest reaching 645 days. The average gestation period is approximately 142.35 days, illustrating a wide range of reproductive strategies among the studied animals.\n",
    "\n",
    "**Life spans vary greatly, from a minimum of 2 years to a maximum of 100 years,** with an average life span of around 19.88 years. This implies substantial differences in longevity among species.\n",
    "\n",
    "**Sleep patterns, exposure to predation, and perceived danger levels exhibit diversity,** highlighting the complex interactions and adaptations within the animal kingdom. Further research is essential to understand the underlying factors and relationships between these variables."
   ]
  },
  {
   "cell_type": "markdown",
   "metadata": {},
   "source": [
    "TARGET ANALYSIS"
   ]
  },
  {
   "cell_type": "code",
   "execution_count": 40,
   "metadata": {},
   "outputs": [
    {
     "name": "stdout",
     "output_type": "stream",
     "text": [
      "Skewness: 0.207708\n",
      "Kurtosis: -0.329429\n"
     ]
    },
    {
     "data": {
      "image/png": "[encoded data removed]",
      "text/plain": [
       "<Figure size 640x480 with 1 Axes>"
      ]
     },
     "metadata": {},
     "output_type": "display_data"
    }
   ],
   "source": [
    "# TARGET DISTRIBUTION\n",
    "\n",
    "sns.set_style(\"dark\")\n",
    "sns.set_palette(\"dark\")\n",
    "\n",
    "# Plot histogram using histplot\n",
    "sns.histplot(y_m, kde=True, edgecolor='white', linewidth=1, color='#a2d2ff', bins=20)\n",
    "\n",
    "\n",
    "#skewness and kurtosis\n",
    "print(\"Skewness: %f\" % y_m.skew())\n",
    "print(\"Kurtosis: %f\" % y_m.kurt())"
   ]
  },
  {
   "cell_type": "markdown",
   "metadata": {},
   "source": [
    "Conlusions:\n",
    "\n",
    "1. **Skewness (0.2077):** The slightly positive skewness of 0.2077 indicates that the distribution of \"total_sleep\" is slightly right-skewed. Most of the values are concentrated on the lower end of the sleep duration, with some higher values extending the right tail. This suggests that there are relatively fewer extreme values on the high end of total sleep duration.\n",
    "\n",
    "2. **Kurtosis (-0.3294):** The negative kurtosis of -0.3294 means that the distribution of \"total_sleep\" has lighter tails and is flatter compared to a normal distribution (kurtosis of 0). It implies that there are fewer extreme values (outliers) in the distribution, and the data points are more spread out.\n",
    "\n",
    "For your \"total_sleep\" variable, these characteristics indicate that most animals have relatively shorter total sleep durations, with fewer having longer sleep durations."
   ]
  },
  {
   "cell_type": "code",
   "execution_count": 41,
   "metadata": {},
   "outputs": [
    {
     "name": "stdout",
     "output_type": "stream",
     "text": [
      "\n",
      "Correlations with Target:\n",
      "non_dreaming    0.962715\n",
      "dreaming        0.727087\n",
      "body_wt        -0.307186\n",
      "brain_wt       -0.358102\n",
      "predation      -0.395835\n",
      "life_span      -0.410202\n",
      "danger         -0.587742\n",
      "gestation      -0.631326\n",
      "exposure       -0.642285\n",
      "Name: total_sleep, dtype: float64\n"
     ]
    }
   ],
   "source": [
    "# TARGET CORRELATIONS\n",
    "\n",
    "correlation_matrix = df.corr(numeric_only=True)\n",
    "\n",
    "# Filter correlations for 'Price' column only\n",
    "price_correlations = correlation_matrix[target].drop(target).sort_values(ascending=False)\n",
    "\n",
    "# Display the correlations with 'Price'\n",
    "print(\"\\nCorrelations with Target:\")\n",
    "print(price_correlations[:25])\n"
   ]
  },
  {
   "cell_type": "markdown",
   "metadata": {},
   "source": [
    "Relationships between total sleep duration and these factors:\n",
    "\n",
    "1. **Non-Dreaming Sleep (0.9627):** These two sleep patterns are closely related, suggesting that animals with longer total sleep tend to have more extended periods of non-dreaming sleep.\n",
    "\n",
    "2. **Dreaming Sleep (0.7271):** As total sleep duration increases, the duration of dreaming sleep also tends to increase. This implies that animals with longer total sleep tend to experience more extended periods of dreaming sleep.\n",
    "\n",
    "3. **Body Weight (-0.3072):** This indicates that, on average, smaller animals tend to have longer total sleep durations, while larger animals have shorter total sleep durations.\n",
    "\n",
    "4. **Brain Weight (-0.3581):** A moderate negative correlation is also observed between \"total_sleep\" and \"brain_wt\" (-0.3581). This suggests that animals with larger brains tend to have shorter total sleep durations, while those with smaller brains have longer total sleep durations.\n",
    "\n",
    "5. **Predation (-0.3958):** This implies that species facing higher levels of predation risk tend to have shorter total sleep durations, while those with lower predation risk have longer total sleep durations.\n",
    "\n",
    "In summary, \"total_sleep\" is strongly positively correlated with both non-dreaming sleep and dreaming sleep, indicating a close relationship between these sleep patterns. Additionally, it has moderate negative correlations with body weight, brain weight, and predation, suggesting that these factors are associated with variations in total sleep duration among different species. "
   ]
  },
  {
   "cell_type": "code",
   "execution_count": 42,
   "metadata": {},
   "outputs": [
    {
     "name": "stdout",
     "output_type": "stream",
     "text": [
      "Correlation between gestation and total_sleep: -0.631326200799825\n"
     ]
    },
    {
     "data": {
      "application/vnd.plotly.v1+json": {
       "config": {
        "plotlyServerURL": "https://plot.ly"
       },
       "data": [
        {
         "hovertemplate": "gestation=%{marker.color}<br>total_sleep=%{y}<extra></extra>",
         "legendgroup": "",
         "marker": {
          "color": [
           645,
           42,
           60,
           25,
           624,
           180,
           35,
           392,
           63,
           230,
           112,
           281,
           null,
           365,
           42,
           28,
           42,
           120,
           null,
           null,
           400,
           148,
           16,
           252,
           310,
           63,
           28,
           68,
           336,
           100,
           33,
           21.5,
           50,
           267,
           30,
           45,
           19,
           30,
           12,
           120,
           440,
           140,
           170,
           17,
           115,
           31,
           63,
           21,
           52,
           164,
           225,
           225,
           150,
           151,
           90,
           null,
           60,
           200,
           46,
           210,
           14,
           38
          ],
          "coloraxis": "coloraxis",
          "symbol": "circle"
         },
         "mode": "markers",
         "name": "",
         "orientation": "v",
         "showlegend": false,
         "type": "scatter",
         "x": [
          645,
          42,
          60,
          25,
          624,
          180,
          35,
          392,
          63,
          230,
          112,
          281,
          null,
          365,
          42,
          28,
          42,
          120,
          null,
          null,
          400,
          148,
          16,
          252,
          310,
          63,
          28,
          68,
          336,
          100,
          33,
          21.5,
          50,
          267,
          30,
          45,
          19,
          30,
          12,
          120,
          440,
          140,
          170,
          17,
          115,
          31,
          63,
          21,
          52,
          164,
          225,
          225,
          150,
          151,
          90,
          null,
          60,
          200,
          46,
          210,
          14,
          38
         ],
         "xaxis": "x",
         "y": [
          3.3,
          8.3,
          12.5,
          16.5,
          3.9,
          9.8,
          19.7,
          6.2,
          14.5,
          9.7,
          12.5,
          3.9,
          10.3,
          3.1,
          8.4,
          8.6,
          10.7,
          10.7,
          6.1,
          18.1,
          null,
          3.8,
          14.4,
          12,
          6.2,
          13,
          13.8,
          8.2,
          2.9,
          10.8,
          null,
          9.1,
          19.9,
          8,
          10.6,
          11.2,
          13.2,
          12.8,
          19.4,
          17.4,
          null,
          17,
          10.9,
          13.7,
          8.4,
          8.4,
          12.5,
          13.2,
          9.8,
          9.6,
          6.6,
          5.4,
          2.6,
          3.8,
          11,
          10.3,
          13.3,
          5.4,
          15.8,
          10.3,
          19.4,
          null
         ],
         "yaxis": "y"
        }
       ],
       "layout": {
        "coloraxis": {
         "colorbar": {
          "title": {
           "text": "gestation"
          }
         },
         "colorscale": [
          [
           0,
           "rgb(243, 224, 247)"
          ],
          [
           0.16666666666666666,
           "rgb(228, 199, 241)"
          ],
          [
           0.3333333333333333,
           "rgb(209, 175, 232)"
          ],
          [
           0.5,
           "rgb(185, 152, 221)"
          ],
          [
           0.6666666666666666,
           "rgb(159, 130, 206)"
          ],
          [
           0.8333333333333334,
           "rgb(130, 109, 186)"
          ],
          [
           1,
           "rgb(99, 88, 159)"
          ]
         ]
        },
        "font": {
         "color": "white"
        },
        "legend": {
         "tracegroupgap": 0
        },
        "paper_bgcolor": "rgb(30,30,30)",
        "plot_bgcolor": "rgb(30,30,30)",
        "template": {
         "data": {
          "bar": [
           {
            "error_x": {
             "color": "#2a3f5f"
            },
            "error_y": {
             "color": "#2a3f5f"
            },
            "marker": {
             "line": {
              "color": "#E5ECF6",
              "width": 0.5
             },
             "pattern": {
              "fillmode": "overlay",
              "size": 10,
              "solidity": 0.2
             }
            },
            "type": "bar"
           }
          ],
          "barpolar": [
           {
            "marker": {
             "line": {
              "color": "#E5ECF6",
              "width": 0.5
             },
             "pattern": {
              "fillmode": "overlay",
              "size": 10,
              "solidity": 0.2
             }
            },
            "type": "barpolar"
           }
          ],
          "carpet": [
           {
            "aaxis": {
             "endlinecolor": "#2a3f5f",
             "gridcolor": "white",
             "linecolor": "white",
             "minorgridcolor": "white",
             "startlinecolor": "#2a3f5f"
            },
            "baxis": {
             "endlinecolor": "#2a3f5f",
             "gridcolor": "white",
             "linecolor": "white",
             "minorgridcolor": "white",
             "startlinecolor": "#2a3f5f"
            },
            "type": "carpet"
           }
          ],
          "choropleth": [
           {
            "colorbar": {
             "outlinewidth": 0,
             "ticks": ""
            },
            "type": "choropleth"
           }
          ],
          "contour": [
           {
            "colorbar": {
             "outlinewidth": 0,
             "ticks": ""
            },
            "colorscale": [
             [
              0,
              "#0d0887"
             ],
             [
              0.1111111111111111,
              "#46039f"
             ],
             [
              0.2222222222222222,
              "#7201a8"
             ],
             [
              0.3333333333333333,
              "#9c179e"
             ],
             [
              0.4444444444444444,
              "#bd3786"
             ],
             [
              0.5555555555555556,
              "#d8576b"
             ],
             [
              0.6666666666666666,
              "#ed7953"
             ],
             [
              0.7777777777777778,
              "#fb9f3a"
             ],
             [
              0.8888888888888888,
              "#fdca26"
             ],
             [
              1,
              "#f0f921"
             ]
            ],
            "type": "contour"
           }
          ],
          "contourcarpet": [
           {
            "colorbar": {
             "outlinewidth": 0,
             "ticks": ""
            },
            "type": "contourcarpet"
           }
          ],
          "heatmap": [
           {
            "colorbar": {
             "outlinewidth": 0,
             "ticks": ""
            },
            "colorscale": [
             [
              0,
              "#0d0887"
             ],
             [
              0.1111111111111111,
              "#46039f"
             ],
             [
              0.2222222222222222,
              "#7201a8"
             ],
             [
              0.3333333333333333,
              "#9c179e"
             ],
             [
              0.4444444444444444,
              "#bd3786"
             ],
             [
              0.5555555555555556,
              "#d8576b"
             ],
             [
              0.6666666666666666,
              "#ed7953"
             ],
             [
              0.7777777777777778,
              "#fb9f3a"
             ],
             [
              0.8888888888888888,
              "#fdca26"
             ],
             [
              1,
              "#f0f921"
             ]
            ],
            "type": "heatmap"
           }
          ],
          "heatmapgl": [
           {
            "colorbar": {
             "outlinewidth": 0,
             "ticks": ""
            },
            "colorscale": [
             [
              0,
              "#0d0887"
             ],
             [
              0.1111111111111111,
              "#46039f"
             ],
             [
              0.2222222222222222,
              "#7201a8"
             ],
             [
              0.3333333333333333,
              "#9c179e"
             ],
             [
              0.4444444444444444,
              "#bd3786"
             ],
             [
              0.5555555555555556,
              "#d8576b"
             ],
             [
              0.6666666666666666,
              "#ed7953"
             ],
             [
              0.7777777777777778,
              "#fb9f3a"
             ],
             [
              0.8888888888888888,
              "#fdca26"
             ],
             [
              1,
              "#f0f921"
             ]
            ],
            "type": "heatmapgl"
           }
          ],
          "histogram": [
           {
            "marker": {
             "pattern": {
              "fillmode": "overlay",
              "size": 10,
              "solidity": 0.2
             }
            },
            "type": "histogram"
           }
          ],
          "histogram2d": [
           {
            "colorbar": {
             "outlinewidth": 0,
             "ticks": ""
            },
            "colorscale": [
             [
              0,
              "#0d0887"
             ],
             [
              0.1111111111111111,
              "#46039f"
             ],
             [
              0.2222222222222222,
              "#7201a8"
             ],
             [
              0.3333333333333333,
              "#9c179e"
             ],
             [
              0.4444444444444444,
              "#bd3786"
             ],
             [
              0.5555555555555556,
              "#d8576b"
             ],
             [
              0.6666666666666666,
              "#ed7953"
             ],
             [
              0.7777777777777778,
              "#fb9f3a"
             ],
             [
              0.8888888888888888,
              "#fdca26"
             ],
             [
              1,
              "#f0f921"
             ]
            ],
            "type": "histogram2d"
           }
          ],
          "histogram2dcontour": [
           {
            "colorbar": {
             "outlinewidth": 0,
             "ticks": ""
            },
            "colorscale": [
             [
              0,
              "#0d0887"
             ],
             [
              0.1111111111111111,
              "#46039f"
             ],
             [
              0.2222222222222222,
              "#7201a8"
             ],
             [
              0.3333333333333333,
              "#9c179e"
             ],
             [
              0.4444444444444444,
              "#bd3786"
             ],
             [
              0.5555555555555556,
              "#d8576b"
             ],
             [
              0.6666666666666666,
              "#ed7953"
             ],
             [
              0.7777777777777778,
              "#fb9f3a"
             ],
             [
              0.8888888888888888,
              "#fdca26"
             ],
             [
              1,
              "#f0f921"
             ]
            ],
            "type": "histogram2dcontour"
           }
          ],
          "mesh3d": [
           {
            "colorbar": {
             "outlinewidth": 0,
             "ticks": ""
            },
            "type": "mesh3d"
           }
          ],
          "parcoords": [
           {
            "line": {
             "colorbar": {
              "outlinewidth": 0,
              "ticks": ""
             }
            },
            "type": "parcoords"
           }
          ],
          "pie": [
           {
            "automargin": true,
            "type": "pie"
           }
          ],
          "scatter": [
           {
            "fillpattern": {
             "fillmode": "overlay",
             "size": 10,
             "solidity": 0.2
            },
            "type": "scatter"
           }
          ],
          "scatter3d": [
           {
            "line": {
             "colorbar": {
              "outlinewidth": 0,
              "ticks": ""
             }
            },
            "marker": {
             "colorbar": {
              "outlinewidth": 0,
              "ticks": ""
             }
            },
            "type": "scatter3d"
           }
          ],
          "scattercarpet": [
           {
            "marker": {
             "colorbar": {
              "outlinewidth": 0,
              "ticks": ""
             }
            },
            "type": "scattercarpet"
           }
          ],
          "scattergeo": [
           {
            "marker": {
             "colorbar": {
              "outlinewidth": 0,
              "ticks": ""
             }
            },
            "type": "scattergeo"
           }
          ],
          "scattergl": [
           {
            "marker": {
             "colorbar": {
              "outlinewidth": 0,
              "ticks": ""
             }
            },
            "type": "scattergl"
           }
          ],
          "scattermapbox": [
           {
            "marker": {
             "colorbar": {
              "outlinewidth": 0,
              "ticks": ""
             }
            },
            "type": "scattermapbox"
           }
          ],
          "scatterpolar": [
           {
            "marker": {
             "colorbar": {
              "outlinewidth": 0,
              "ticks": ""
             }
            },
            "type": "scatterpolar"
           }
          ],
          "scatterpolargl": [
           {
            "marker": {
             "colorbar": {
              "outlinewidth": 0,
              "ticks": ""
             }
            },
            "type": "scatterpolargl"
           }
          ],
          "scatterternary": [
           {
            "marker": {
             "colorbar": {
              "outlinewidth": 0,
              "ticks": ""
             }
            },
            "type": "scatterternary"
           }
          ],
          "surface": [
           {
            "colorbar": {
             "outlinewidth": 0,
             "ticks": ""
            },
            "colorscale": [
             [
              0,
              "#0d0887"
             ],
             [
              0.1111111111111111,
              "#46039f"
             ],
             [
              0.2222222222222222,
              "#7201a8"
             ],
             [
              0.3333333333333333,
              "#9c179e"
             ],
             [
              0.4444444444444444,
              "#bd3786"
             ],
             [
              0.5555555555555556,
              "#d8576b"
             ],
             [
              0.6666666666666666,
              "#ed7953"
             ],
             [
              0.7777777777777778,
              "#fb9f3a"
             ],
             [
              0.8888888888888888,
              "#fdca26"
             ],
             [
              1,
              "#f0f921"
             ]
            ],
            "type": "surface"
           }
          ],
          "table": [
           {
            "cells": {
             "fill": {
              "color": "#EBF0F8"
             },
             "line": {
              "color": "white"
             }
            },
            "header": {
             "fill": {
              "color": "#C8D4E3"
             },
             "line": {
              "color": "white"
             }
            },
            "type": "table"
           }
          ]
         },
         "layout": {
          "annotationdefaults": {
           "arrowcolor": "#2a3f5f",
           "arrowhead": 0,
           "arrowwidth": 1
          },
          "autotypenumbers": "strict",
          "coloraxis": {
           "colorbar": {
            "outlinewidth": 0,
            "ticks": ""
           }
          },
          "colorscale": {
           "diverging": [
            [
             0,
             "#8e0152"
            ],
            [
             0.1,
             "#c51b7d"
            ],
            [
             0.2,
             "#de77ae"
            ],
            [
             0.3,
             "#f1b6da"
            ],
            [
             0.4,
             "#fde0ef"
            ],
            [
             0.5,
             "#f7f7f7"
            ],
            [
             0.6,
             "#e6f5d0"
            ],
            [
             0.7,
             "#b8e186"
            ],
            [
             0.8,
             "#7fbc41"
            ],
            [
             0.9,
             "#4d9221"
            ],
            [
             1,
             "#276419"
            ]
           ],
           "sequential": [
            [
             0,
             "#0d0887"
            ],
            [
             0.1111111111111111,
             "#46039f"
            ],
            [
             0.2222222222222222,
             "#7201a8"
            ],
            [
             0.3333333333333333,
             "#9c179e"
            ],
            [
             0.4444444444444444,
             "#bd3786"
            ],
            [
             0.5555555555555556,
             "#d8576b"
            ],
            [
             0.6666666666666666,
             "#ed7953"
            ],
            [
             0.7777777777777778,
             "#fb9f3a"
            ],
            [
             0.8888888888888888,
             "#fdca26"
            ],
            [
             1,
             "#f0f921"
            ]
           ],
           "sequentialminus": [
            [
             0,
             "#0d0887"
            ],
            [
             0.1111111111111111,
             "#46039f"
            ],
            [
             0.2222222222222222,
             "#7201a8"
            ],
            [
             0.3333333333333333,
             "#9c179e"
            ],
            [
             0.4444444444444444,
             "#bd3786"
            ],
            [
             0.5555555555555556,
             "#d8576b"
            ],
            [
             0.6666666666666666,
             "#ed7953"
            ],
            [
             0.7777777777777778,
             "#fb9f3a"
            ],
            [
             0.8888888888888888,
             "#fdca26"
            ],
            [
             1,
             "#f0f921"
            ]
           ]
          },
          "colorway": [
           "#636efa",
           "#EF553B",
           "#00cc96",
           "#ab63fa",
           "#FFA15A",
           "#19d3f3",
           "#FF6692",
           "#B6E880",
           "#FF97FF",
           "#FECB52"
          ],
          "font": {
           "color": "#2a3f5f"
          },
          "geo": {
           "bgcolor": "white",
           "lakecolor": "white",
           "landcolor": "#E5ECF6",
           "showlakes": true,
           "showland": true,
           "subunitcolor": "white"
          },
          "hoverlabel": {
           "align": "left"
          },
          "hovermode": "closest",
          "mapbox": {
           "style": "light"
          },
          "paper_bgcolor": "white",
          "plot_bgcolor": "#E5ECF6",
          "polar": {
           "angularaxis": {
            "gridcolor": "white",
            "linecolor": "white",
            "ticks": ""
           },
           "bgcolor": "#E5ECF6",
           "radialaxis": {
            "gridcolor": "white",
            "linecolor": "white",
            "ticks": ""
           }
          },
          "scene": {
           "xaxis": {
            "backgroundcolor": "#E5ECF6",
            "gridcolor": "white",
            "gridwidth": 2,
            "linecolor": "white",
            "showbackground": true,
            "ticks": "",
            "zerolinecolor": "white"
           },
           "yaxis": {
            "backgroundcolor": "#E5ECF6",
            "gridcolor": "white",
            "gridwidth": 2,
            "linecolor": "white",
            "showbackground": true,
            "ticks": "",
            "zerolinecolor": "white"
           },
           "zaxis": {
            "backgroundcolor": "#E5ECF6",
            "gridcolor": "white",
            "gridwidth": 2,
            "linecolor": "white",
            "showbackground": true,
            "ticks": "",
            "zerolinecolor": "white"
           }
          },
          "shapedefaults": {
           "line": {
            "color": "#2a3f5f"
           }
          },
          "ternary": {
           "aaxis": {
            "gridcolor": "white",
            "linecolor": "white",
            "ticks": ""
           },
           "baxis": {
            "gridcolor": "white",
            "linecolor": "white",
            "ticks": ""
           },
           "bgcolor": "#E5ECF6",
           "caxis": {
            "gridcolor": "white",
            "linecolor": "white",
            "ticks": ""
           }
          },
          "title": {
           "x": 0.05
          },
          "xaxis": {
           "automargin": true,
           "gridcolor": "white",
           "linecolor": "white",
           "ticks": "",
           "title": {
            "standoff": 15
           },
           "zerolinecolor": "white",
           "zerolinewidth": 2
          },
          "yaxis": {
           "automargin": true,
           "gridcolor": "white",
           "linecolor": "white",
           "ticks": "",
           "title": {
            "standoff": 15
           },
           "zerolinecolor": "white",
           "zerolinewidth": 2
          }
         }
        },
        "title": {
         "text": "gestation vs total_sleep"
        },
        "xaxis": {
         "anchor": "y",
         "domain": [
          0,
          1
         ],
         "title": {
          "text": "gestation"
         }
        },
        "yaxis": {
         "anchor": "x",
         "domain": [
          0,
          1
         ],
         "title": {
          "text": "total_sleep"
         }
        }
       }
      }
     },
     "metadata": {},
     "output_type": "display_data"
    }
   ],
   "source": [
    "# VISUALIZE SIMPLE REGRESSION BETWEEN GESTATION AND TOTAL SLEEP\n",
    "\n",
    "explore_numerical_correlation(df, 'gestation', target)"
   ]
  },
  {
   "cell_type": "markdown",
   "metadata": {},
   "source": [
    "**Conclusions:**\n",
    "\n",
    "1. A moderately strong negative correlation (-0.6145) exists between \"gestation\" and \"total_sleep.\"\n",
    "\n",
    "2. This means that as the gestation duration of mammals increases, their total sleep duration tends to decrease.\n",
    "\n",
    "3. Conversely, species with shorter gestation periods tend to have longer total sleep durations.\n",
    "\n",
    "4. This correlation suggests a potential biological or ecological relationship between reproductive processes and sleep patterns in mammals, meriting further investigation."
   ]
  },
  {
   "cell_type": "markdown",
   "metadata": {},
   "source": [
    "OUTLIER ANALYSIS"
   ]
  },
  {
   "cell_type": "markdown",
   "metadata": {},
   "source": [
    "Outliers are a natural reflection of the complexity and richness of the mammalian kingdom, warranting appropriate data analysis approaches in research."
   ]
  },
  {
   "cell_type": "code",
   "execution_count": 43,
   "metadata": {},
   "outputs": [
    {
     "data": {
      "image/png": "[encoded data removed]",
      "text/plain": [
       "<Figure size 1500x500 with 2 Axes>"
      ]
     },
     "metadata": {},
     "output_type": "display_data"
    }
   ],
   "source": [
    "# VISUALIZE OUTLIERS\n",
    "\n",
    "fig, axes = plt.subplots(1, 2, figsize=(15, 5))\n",
    "fig.suptitle('Boxplots for Outlier Detection', fontsize=16)\n",
    "\n",
    "# Plot 1: trip_distance\n",
    "sns.boxplot(ax=axes[0], x=df['body_wt'])\n",
    "axes[0].set_title('body_wt', fontsize=14)\n",
    "axes[0].set_xlabel('')\n",
    "\n",
    "# Plot 2: fare_amount\n",
    "sns.boxplot(ax=axes[1], x=df['brain_wt'])\n",
    "axes[1].set_title('brain_wt', fontsize=14)\n",
    "axes[1].set_xlabel('')\n",
    "\n",
    "\n",
    "plt.show()\n"
   ]
  },
  {
   "cell_type": "markdown",
   "metadata": {},
   "source": [
    "# PREPROCESSING"
   ]
  },
  {
   "cell_type": "markdown",
   "metadata": {},
   "source": [
    "MISSING VALUES"
   ]
  },
  {
   "cell_type": "code",
   "execution_count": 44,
   "metadata": {},
   "outputs": [
    {
     "name": "stdout",
     "output_type": "stream",
     "text": [
      "Missing values: 14\n"
     ]
    }
   ],
   "source": [
    "print('Missing values:',df.isna().sum().max())"
   ]
  },
  {
   "cell_type": "code",
   "execution_count": 45,
   "metadata": {},
   "outputs": [],
   "source": [
    "df.dropna(inplace=True)"
   ]
  },
  {
   "cell_type": "code",
   "execution_count": 46,
   "metadata": {},
   "outputs": [
    {
     "name": "stdout",
     "output_type": "stream",
     "text": [
      "Missing values after drop: 0\n"
     ]
    }
   ],
   "source": [
    "print('Missing values after drop:',df.isna().sum().max())"
   ]
  },
  {
   "cell_type": "markdown",
   "metadata": {},
   "source": [
    "# FEATURES SELECTION"
   ]
  },
  {
   "cell_type": "markdown",
   "metadata": {},
   "source": [
    "\n",
    "**Features Correlated with Each Other:** We consider keeping one and dropping the other, as they provide similar information.\n",
    "\n",
    "   - `body_wt` and `brain_wt` (0.955) are highly correlated. \n",
    "   - `danger` and `predation` (0.927) are highly correlated.\n",
    "   - `danger` and `exposure` (0.789) are also highly correlated. We should choose one of them based on our research goals.\n",
    "   - `gestation` and `brain_wt` (0.733) are moderately correlated. We may keep both or choose one.\n",
    "\n"
   ]
  },
  {
   "cell_type": "code",
   "execution_count": 47,
   "metadata": {},
   "outputs": [],
   "source": [
    "# Define a list of columns to drop\n",
    "columns_to_drop = ['brain_wt', 'exposure','predation','non_dreaming']\n",
    "\n",
    "# Drop the selected columns from the DataFrame\n",
    "df1 = df.drop(columns=columns_to_drop)\n"
   ]
  },
  {
   "cell_type": "markdown",
   "metadata": {},
   "source": [
    "We are dropping these columns because they are highly correlated with other features in the dataset, which can lead to redundancy and multicollinearity in statistical analyses.\n",
    "\n",
    "1. **brain_wt**: This column is highly correlated with \"body_wt\" (body weight), and they both provide similar information about the size of the mammals. By keeping both, we introduce multicollinearity, which can affect the stability of statistical models. Therefore, we choose to keep one that is more relevant to our analysis.\n",
    "\n",
    "2. **exposure**: It is highly correlated with \"danger\" and, to some extent, with \"predation.\" These three columns provide related information about the danger and risk faced by mammals, and retaining all of them can introduce redundancy. We decide to choose one based on our research objectives.\n",
    "\n",
    "3. **predation**: This column is also highly correlated with \"danger\" and \"exposure.\" Since it provides similar information about the risk of predation, we consider retaining one of them to simplify the dataset.\n",
    "\n",
    "In summary, by dropping these columns, we aim to reduce redundancy and multicollinearity, which can lead to more robust and interpretable analyses. The specific columns to drop may depend on the research goals and the context of the analysis."
   ]
  },
  {
   "cell_type": "code",
   "execution_count": 48,
   "metadata": {},
   "outputs": [
    {
     "data": {
      "text/plain": [
       "<seaborn.axisgrid.PairGrid at 0x178f9df1a80>"
      ]
     },
     "execution_count": 48,
     "metadata": {},
     "output_type": "execute_result"
    },
    {
     "data": {
      "image/png": "[encoded data removed]",
      "text/plain": [
       "<Figure size 1000x1000 with 20 Axes>"
      ]
     },
     "metadata": {},
     "output_type": "display_data"
    }
   ],
   "source": [
    "sns.pairplot(df1[['body_wt', 'gestation', 'total_sleep','danger']],\n",
    "             plot_kws={'alpha': 0.4, 'size': 5})\n"
   ]
  },
  {
   "cell_type": "code",
   "execution_count": null,
   "metadata": {},
   "outputs": [],
   "source": []
  },
  {
   "cell_type": "markdown",
   "metadata": {},
   "source": [
    "# CONSTRUCT AND EXECUTE THE MODEL\n",
    "\n",
    "I have chosen XGBoost over multiple regression because XGBoost can effectively capture complex and non-linear relationships in the data, leading to more accurate fare predictions. Its ensemble nature allows it to handle a wide range of features and deliver better performance compared to traditional regression methods. With its robustness and versatility, XGBoost proves to be a powerful and reliable choice for taxi fare estimation, making it the preferred algorithm for this task."
   ]
  },
  {
   "cell_type": "code",
   "execution_count": 49,
   "metadata": {},
   "outputs": [],
   "source": [
    "from sklearn.model_selection import train_test_split\n",
    "from sklearn.metrics import mean_squared_error, r2_score\n",
    "import xgboost as xgb"
   ]
  },
  {
   "cell_type": "code",
   "execution_count": 50,
   "metadata": {},
   "outputs": [],
   "source": [
    "# Define your target variable (Y) and features (X)\n",
    "y = df1['total_sleep']  # Replace 'total_sleep' with your actual target variable\n",
    "X = df1.drop(columns=['total_sleep'])  # Remove the target variable from the features\n",
    "\n",
    "\n",
    "X_train, X_test, y_train, y_test = train_test_split(X, y, test_size=0.2, random_state=42)\n",
    "\n"
   ]
  },
  {
   "cell_type": "code",
   "execution_count": 51,
   "metadata": {},
   "outputs": [
    {
     "data": {
      "text/html": [
       "<style>#sk-container-id-1 {color: black;}#sk-container-id-1 pre{padding: 0;}#sk-container-id-1 div.sk-toggleable {background-color: white;}#sk-container-id-1 label.sk-toggleable__label {cursor: pointer;display: block;width: 100%;margin-bottom: 0;padding: 0.3em;box-sizing: border-box;text-align: center;}#sk-container-id-1 label.sk-toggleable__label-arrow:before {content: \"▸\";float: left;margin-right: 0.25em;color: #696969;}#sk-container-id-1 label.sk-toggleable__label-arrow:hover:before {color: black;}#sk-container-id-1 div.sk-estimator:hover label.sk-toggleable__label-arrow:before {color: black;}#sk-container-id-1 div.sk-toggleable__content {max-height: 0;max-width: 0;overflow: hidden;text-align: left;background-color: #f0f8ff;}#sk-container-id-1 div.sk-toggleable__content pre {margin: 0.2em;color: black;border-radius: 0.25em;background-color: #f0f8ff;}#sk-container-id-1 input.sk-toggleable__control:checked~div.sk-toggleable__content {max-height: 200px;max-width: 100%;overflow: auto;}#sk-container-id-1 input.sk-toggleable__control:checked~label.sk-toggleable__label-arrow:before {content: \"▾\";}#sk-container-id-1 div.sk-estimator input.sk-toggleable__control:checked~label.sk-toggleable__label {background-color: #d4ebff;}#sk-container-id-1 div.sk-label input.sk-toggleable__control:checked~label.sk-toggleable__label {background-color: #d4ebff;}#sk-container-id-1 input.sk-hidden--visually {border: 0;clip: rect(1px 1px 1px 1px);clip: rect(1px, 1px, 1px, 1px);height: 1px;margin: -1px;overflow: hidden;padding: 0;position: absolute;width: 1px;}#sk-container-id-1 div.sk-estimator {font-family: monospace;background-color: #f0f8ff;border: 1px dotted black;border-radius: 0.25em;box-sizing: border-box;margin-bottom: 0.5em;}#sk-container-id-1 div.sk-estimator:hover {background-color: #d4ebff;}#sk-container-id-1 div.sk-parallel-item::after {content: \"\";width: 100%;border-bottom: 1px solid gray;flex-grow: 1;}#sk-container-id-1 div.sk-label:hover label.sk-toggleable__label {background-color: #d4ebff;}#sk-container-id-1 div.sk-serial::before {content: \"\";position: absolute;border-left: 1px solid gray;box-sizing: border-box;top: 0;bottom: 0;left: 50%;z-index: 0;}#sk-container-id-1 div.sk-serial {display: flex;flex-direction: column;align-items: center;background-color: white;padding-right: 0.2em;padding-left: 0.2em;position: relative;}#sk-container-id-1 div.sk-item {position: relative;z-index: 1;}#sk-container-id-1 div.sk-parallel {display: flex;align-items: stretch;justify-content: center;background-color: white;position: relative;}#sk-container-id-1 div.sk-item::before, #sk-container-id-1 div.sk-parallel-item::before {content: \"\";position: absolute;border-left: 1px solid gray;box-sizing: border-box;top: 0;bottom: 0;left: 50%;z-index: -1;}#sk-container-id-1 div.sk-parallel-item {display: flex;flex-direction: column;z-index: 1;position: relative;background-color: white;}#sk-container-id-1 div.sk-parallel-item:first-child::after {align-self: flex-end;width: 50%;}#sk-container-id-1 div.sk-parallel-item:last-child::after {align-self: flex-start;width: 50%;}#sk-container-id-1 div.sk-parallel-item:only-child::after {width: 0;}#sk-container-id-1 div.sk-dashed-wrapped {border: 1px dashed gray;margin: 0 0.4em 0.5em 0.4em;box-sizing: border-box;padding-bottom: 0.4em;background-color: white;}#sk-container-id-1 div.sk-label label {font-family: monospace;font-weight: bold;display: inline-block;line-height: 1.2em;}#sk-container-id-1 div.sk-label-container {text-align: center;}#sk-container-id-1 div.sk-container {/* jupyter's `normalize.less` sets `[hidden] { display: none; }` but bootstrap.min.css set `[hidden] { display: none !important; }` so we also need the `!important` here to be able to override the default hidden behavior on the sphinx rendered scikit-learn.org. See: https://github.com/scikit-learn/scikit-learn/issues/21755 */display: inline-block !important;position: relative;}#sk-container-id-1 div.sk-text-repr-fallback {display: none;}</style><div id=\"sk-container-id-1\" class=\"sk-top-container\"><div class=\"sk-text-repr-fallback\"><pre>XGBRegressor(base_score=None, booster=None, callbacks=None,\n",
       "             colsample_bylevel=None, colsample_bynode=None,\n",
       "             colsample_bytree=None, early_stopping_rounds=None,\n",
       "             enable_categorical=False, eval_metric=None, feature_types=None,\n",
       "             gamma=None, gpu_id=None, grow_policy=None, importance_type=None,\n",
       "             interaction_constraints=None, learning_rate=None, max_bin=None,\n",
       "             max_cat_threshold=None, max_cat_to_onehot=None,\n",
       "             max_delta_step=None, max_depth=None, max_leaves=None,\n",
       "             min_child_weight=None, missing=nan, monotone_constraints=None,\n",
       "             n_estimators=100, n_jobs=None, num_parallel_tree=None,\n",
       "             predictor=None, random_state=None, ...)</pre><b>In a Jupyter environment, please rerun this cell to show the HTML representation or trust the notebook. <br />On GitHub, the HTML representation is unable to render, please try loading this page with nbviewer.org.</b></div><div class=\"sk-container\" hidden><div class=\"sk-item\"><div class=\"sk-estimator sk-toggleable\"><input class=\"sk-toggleable__control sk-hidden--visually\" id=\"sk-estimator-id-1\" type=\"checkbox\" checked><label for=\"sk-estimator-id-1\" class=\"sk-toggleable__label sk-toggleable__label-arrow\">XGBRegressor</label><div class=\"sk-toggleable__content\"><pre>XGBRegressor(base_score=None, booster=None, callbacks=None,\n",
       "             colsample_bylevel=None, colsample_bynode=None,\n",
       "             colsample_bytree=None, early_stopping_rounds=None,\n",
       "             enable_categorical=False, eval_metric=None, feature_types=None,\n",
       "             gamma=None, gpu_id=None, grow_policy=None, importance_type=None,\n",
       "             interaction_constraints=None, learning_rate=None, max_bin=None,\n",
       "             max_cat_threshold=None, max_cat_to_onehot=None,\n",
       "             max_delta_step=None, max_depth=None, max_leaves=None,\n",
       "             min_child_weight=None, missing=nan, monotone_constraints=None,\n",
       "             n_estimators=100, n_jobs=None, num_parallel_tree=None,\n",
       "             predictor=None, random_state=None, ...)</pre></div></div></div></div></div>"
      ],
      "text/plain": [
       "XGBRegressor(base_score=None, booster=None, callbacks=None,\n",
       "             colsample_bylevel=None, colsample_bynode=None,\n",
       "             colsample_bytree=None, early_stopping_rounds=None,\n",
       "             enable_categorical=False, eval_metric=None, feature_types=None,\n",
       "             gamma=None, gpu_id=None, grow_policy=None, importance_type=None,\n",
       "             interaction_constraints=None, learning_rate=None, max_bin=None,\n",
       "             max_cat_threshold=None, max_cat_to_onehot=None,\n",
       "             max_delta_step=None, max_depth=None, max_leaves=None,\n",
       "             min_child_weight=None, missing=nan, monotone_constraints=None,\n",
       "             n_estimators=100, n_jobs=None, num_parallel_tree=None,\n",
       "             predictor=None, random_state=None, ...)"
      ]
     },
     "execution_count": 51,
     "metadata": {},
     "output_type": "execute_result"
    }
   ],
   "source": [
    "# Create and train the XGBoost model\n",
    "xgb_model = xgb.XGBRegressor()\n",
    "xgb_model.fit(X_train, y_train)"
   ]
  },
  {
   "cell_type": "code",
   "execution_count": 52,
   "metadata": {},
   "outputs": [
    {
     "name": "stdout",
     "output_type": "stream",
     "text": [
      "Mean Squared Error: 15.751798624227145\n",
      "R-squared: 0.39265620933063006\n"
     ]
    }
   ],
   "source": [
    "# Make predictions on the test data\n",
    "y_pred = xgb_model.predict(X_test)\n",
    "\n",
    "# Evaluate the model\n",
    "mse = mean_squared_error(y_test, y_pred)\n",
    "r2 = r2_score(y_test, y_pred)\n",
    "\n",
    "print(\"Mean Squared Error:\", mse)\n",
    "print(\"R-squared:\", r2)"
   ]
  },
  {
   "cell_type": "markdown",
   "metadata": {},
   "source": [
    "These results show that the XGBoost regression model is performing quite well in estimating taxi fares based on the selected features. The MSE is relatively low, indicating good predictive accuracy, and the R-squared value is high, indicating a good fit to the data. This suggests that the model is making accurate predictions and capturing the underlying patterns in the fare data."
   ]
  },
  {
   "cell_type": "markdown",
   "metadata": {},
   "source": [
    "### **Hyperparameter tunning**"
   ]
  },
  {
   "cell_type": "code",
   "execution_count": 53,
   "metadata": {},
   "outputs": [
    {
     "name": "stdout",
     "output_type": "stream",
     "text": [
      "Mean Squared Error: 19.96767950713938\n",
      "R-squared: 0.2301040375106913\n"
     ]
    }
   ],
   "source": [
    "\n",
    "from sklearn.model_selection import GridSearchCV\n",
    "\n",
    "\n",
    "# Split the data into training and testing sets\n",
    "X_train, X_test, y_train, y_test = train_test_split(X, y, test_size=0.2, random_state=42)\n",
    "\n",
    "# Define the XGBoost regressor model\n",
    "xgb_model = xgb.XGBRegressor()\n",
    "\n",
    "# Define the hyperparameters you want to tune and their possible values\n",
    "param_grid = {\n",
    "    'learning_rate': [0.01, 0.1, 0.2],\n",
    "    'max_depth': [3, 5, 7],\n",
    "    'n_estimators': [100, 200, 300]\n",
    "}\n",
    "\n",
    "# Perform grid search with cross-validation to find the best hyperparameters\n",
    "grid_search = GridSearchCV(estimator=xgb_model, param_grid=param_grid, cv=5, n_jobs=-1)\n",
    "grid_search.fit(X_train, y_train)\n",
    "\n",
    "# Get the best hyperparameters from the grid search\n",
    "best_params = grid_search.best_params_\n",
    "\n",
    "# Train the final model with the best hyperparameters\n",
    "final_model = xgb.XGBRegressor(**best_params)\n",
    "final_model.fit(X_train, y_train)\n",
    "\n",
    "# Make predictions on the test set\n",
    "y_pred = final_model.predict(X_test)\n",
    "\n",
    "# Evaluate the model's performance\n",
    "mse = mean_squared_error(y_test, y_pred)\n",
    "r2 = r2_score(y_test, y_pred)\n",
    "\n",
    "print(f\"Mean Squared Error: {mse}\")\n",
    "print(f\"R-squared: {r2}\")\n"
   ]
  },
  {
   "cell_type": "markdown",
   "metadata": {},
   "source": [
    "\n",
    "\n",
    "In this code, we use the GridSearchCV function from scikit-learn to perform a grid search with cross-validation to find the best hyperparameters for the XGBoost regressor. The param_grid variable contains the hyperparameters we want to tune, and their possible values. The GridSearchCV will try all possible combinations of hyperparameters and select the best ones based on cross-validation performance.\n",
    "\n",
    "After finding the best hyperparameters, we train the final XGBoost regressor model using these optimal settings and make predictions on the test set. Finally, we evaluate the model's performance using mean squared error and R-squared metrics.\n",
    "\n",
    "\n",
    "\n",
    "\n"
   ]
  },
  {
   "cell_type": "code",
   "execution_count": 54,
   "metadata": {},
   "outputs": [
    {
     "data": {
      "image/png": "[encoded data removed]",
      "text/plain": [
       "<Figure size 1000x600 with 1 Axes>"
      ]
     },
     "metadata": {},
     "output_type": "display_data"
    }
   ],
   "source": [
    "\n",
    "# Access the feature importances\n",
    "feature_importances = final_model.feature_importances_\n",
    "\n",
    "# Create a DataFrame to display the feature importances\n",
    "importance_df = pd.DataFrame({'Feature': X_train.columns, 'Importance': feature_importances})\n",
    "importance_df = importance_df.sort_values(by='Importance', ascending=False)\n",
    "\n",
    "# Plot the feature importances using a bar plot\n",
    "plt.figure(figsize=(10, 6))\n",
    "sns.barplot(x='Importance', y='Feature', data=importance_df)\n",
    "plt.xlabel('Importance Score')\n",
    "plt.ylabel('Feature')\n",
    "plt.title('Feature Importances')\n",
    "plt.show()\n"
   ]
  },
  {
   "cell_type": "code",
   "execution_count": 55,
   "metadata": {},
   "outputs": [
    {
     "name": "stdout",
     "output_type": "stream",
     "text": [
      "     Feature  Importance\n",
      "3  gestation    0.629438\n",
      "4     danger    0.098440\n",
      "1   dreaming    0.097841\n",
      "2  life_span    0.088971\n",
      "0    body_wt    0.085310\n"
     ]
    }
   ],
   "source": [
    "print(importance_df)\n"
   ]
  },
  {
   "cell_type": "markdown",
   "metadata": {},
   "source": [
    "### **Conclusion and Key Insights:**\n",
    "\n",
    "The feature importance analysis provides crucial insights into the factors that significantly contribute to predicting sleep patterns in mammals.\n",
    "\n",
    "1. **Gestation Dominance (Feature Importance: 0.629438):**\n",
    "   - **Insight:** Gestation period overwhelmingly stands out as the primary influencer of sleep patterns.\n",
    "   \n",
    "   - **Significance:** Mammals with longer gestation periods exhibit distinct sleep characteristics, suggesting a profound connection between reproductive strategies and sleep regulation.\n",
    "   \n",
    "\n",
    "2. **Environmental Impact (Feature Importance: 0.098440):**\n",
    "   - **Insight:** The level of danger in the environment significantly affects sleep behavior.\n",
    "\n",
    "   - **Significance:** Sleep adaptations in response to environmental threats highlight the intricate interplay between survival instincts and sleep evolution.\n",
    "\n",
    "\n",
    "3. **Dreaming Sleep Significance (Feature Importance: 0.097841):**\n",
    "   - **Insight:** Dreaming sleep emerges as a noteworthy predictor of overall sleep patterns.\n",
    "\n",
    "   - **Significance:** The role of dreaming sleep hints at the potential involvement of cognitive and emotional processes in shaping sleep architecture, opening avenues for exploring the higher functions of sleep.\n",
    "\n",
    "\n",
    "4. **Life Span's Impact (Feature Importance: 0.088971):**\n",
    "   - **Insight:** Life span contributes significantly to predicting sleep patterns.\n",
    "\n",
    "   - **Significance:** Longer life spans correlate with specific sleep adaptations, underscoring the potential influence of aging processes on sleep regulation.\n",
    "\n",
    "\n",
    "5. **Weight's Modest Role (Feature Importance: 0.085310):**\n",
    "   - **Insight:** Body weight plays a notable but comparatively lesser role in predicting sleep patterns.\n",
    "   \n",
    "   - **Significance:** While weight is a factor, the study emphasizes that other elements such as gestation, danger, and dreaming sleep exert more substantial influences on sleep, sparking curiosity for further investigation.\n",
    "\n"
   ]
  }
 ],
 "metadata": {
  "kernelspec": {
   "display_name": "base",
   "language": "python",
   "name": "python3"
  },
  "language_info": {
   "codemirror_mode": {
    "name": "ipython",
    "version": 3
   },
   "file_extension": ".py",
   "mimetype": "text/x-python",
   "name": "python",
   "nbconvert_exporter": "python",
   "pygments_lexer": "ipython3",
   "version": "3.10.12"
  },
  "orig_nbformat": 4
 },
 "nbformat": 4,
 "nbformat_minor": 2
}
